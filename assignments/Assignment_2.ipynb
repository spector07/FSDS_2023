{
 "cells": [
  {
   "cell_type": "raw",
   "id": "aecc32f0",
   "metadata": {},
   "source": [
    "1.What are the two values of the Boolean data type? How do you write them?\n",
    "\n",
    "True and False are two values of boolean data type.\n",
    "In python its written as True or 1, False or 0"
   ]
  },
  {
   "cell_type": "raw",
   "id": "7c74569a",
   "metadata": {},
   "source": [
    "2. What are the three different types of Boolean operators?\n",
    "\n",
    "Boolean operators are as follows:\n",
    "1. Comparison operators\n",
    "    ==\tEqual to\n",
    "    !=\tNot equal to\n",
    "    <\tLess than\n",
    "    >\tGreater than\n",
    "    <=\tLess than or equal to\n",
    "    >=\tGreater than or equal to\n",
    "2. Logical operator\n",
    "    and\t- True if both are True\n",
    "    or\t- True if at least one is True\n",
    "    not\t- True only if False"
   ]
  },
  {
   "cell_type": "raw",
   "id": "f55d4db9",
   "metadata": {},
   "source": [
    "4. What are the values of the following expressions?"
   ]
  },
  {
   "cell_type": "code",
   "execution_count": 5,
   "id": "dcd2c4e2",
   "metadata": {},
   "outputs": [
    {
     "data": {
      "text/plain": [
       "False"
      ]
     },
     "execution_count": 5,
     "metadata": {},
     "output_type": "execute_result"
    }
   ],
   "source": [
    "(5 > 4) and (3 == 5)"
   ]
  },
  {
   "cell_type": "code",
   "execution_count": 6,
   "id": "c9a0002c",
   "metadata": {},
   "outputs": [
    {
     "data": {
      "text/plain": [
       "False"
      ]
     },
     "execution_count": 6,
     "metadata": {},
     "output_type": "execute_result"
    }
   ],
   "source": [
    "not (5 > 4)"
   ]
  },
  {
   "cell_type": "code",
   "execution_count": 7,
   "id": "60cf1f7f",
   "metadata": {},
   "outputs": [
    {
     "data": {
      "text/plain": [
       "True"
      ]
     },
     "execution_count": 7,
     "metadata": {},
     "output_type": "execute_result"
    }
   ],
   "source": [
    "(5 > 4) or (3 == 5)"
   ]
  },
  {
   "cell_type": "code",
   "execution_count": 8,
   "id": "f9623d38",
   "metadata": {},
   "outputs": [
    {
     "data": {
      "text/plain": [
       "False"
      ]
     },
     "execution_count": 8,
     "metadata": {},
     "output_type": "execute_result"
    }
   ],
   "source": [
    "not ((5 > 4) or (3 == 5))"
   ]
  },
  {
   "cell_type": "code",
   "execution_count": 9,
   "id": "28003417",
   "metadata": {},
   "outputs": [
    {
     "data": {
      "text/plain": [
       "False"
      ]
     },
     "execution_count": 9,
     "metadata": {},
     "output_type": "execute_result"
    }
   ],
   "source": [
    "(True and True) and (True == False)"
   ]
  },
  {
   "cell_type": "code",
   "execution_count": 10,
   "id": "72f24128",
   "metadata": {},
   "outputs": [
    {
     "data": {
      "text/plain": [
       "True"
      ]
     },
     "execution_count": 10,
     "metadata": {},
     "output_type": "execute_result"
    }
   ],
   "source": [
    "(not False) or (not True)"
   ]
  },
  {
   "cell_type": "raw",
   "id": "979acc4a",
   "metadata": {},
   "source": [
    "5. What are the six comparison operators?\n",
    "\n",
    "    ==\tEqual to\n",
    "    !=\tNot equal to\n",
    "    <\tLess than\n",
    "    >\tGreater than\n",
    "    <=\tLess than or equal to\n",
    "    >=\tGreater than or equal to"
   ]
  },
  {
   "cell_type": "raw",
   "id": "e7a02738",
   "metadata": {},
   "source": [
    "6. How do you tell the difference between the equal to and assignment operators?  Describe a condition and when you would use one.\n",
    "\n",
    " ==\tEqual to is not assignment as it checks if both values on either sides are equal or not. If equal then return true or returns false. It can be used in if conditions.\n",
    " \n",
    " if 10 == 10:\n",
    "    print('True')\n",
    " \n",
    "= assignment operator is used to assign a value to variable.\n",
    "\n",
    "var1 = 10"
   ]
  },
  {
   "cell_type": "raw",
   "id": "3c758685",
   "metadata": {},
   "source": [
    "7. Identify the three blocks in this code:\n",
    "spam = 0\n",
    "if spam == 10:  -----> if block\n",
    "    print('eggs')\n",
    "if spam > 5:    -----> if block\n",
    "    print('bacon')\n",
    "else:           -----> else block\n",
    "    print('ham')\n",
    "print('spam')\n",
    "print('spam')"
   ]
  },
  {
   "cell_type": "raw",
   "id": "f11a07f8",
   "metadata": {},
   "source": [
    "8. Write code that prints Hello if 1 is stored in spam, prints Howdy if 2 is stored in spam, and prints Greetings! if anything else is stored in spam.\n"
   ]
  },
  {
   "cell_type": "code",
   "execution_count": 16,
   "id": "adcdd6ff",
   "metadata": {},
   "outputs": [
    {
     "name": "stdout",
     "output_type": "stream",
     "text": [
      "Howdy\n"
     ]
    }
   ],
   "source": [
    "spam = 2\n",
    "if spam == 1:\n",
    "    print('Hello')\n",
    "elif spam == 2:\n",
    "    print('Howdy')\n",
    "else:\n",
    "    print('Greetings!')"
   ]
  },
  {
   "cell_type": "raw",
   "id": "d5221f50",
   "metadata": {},
   "source": [
    "9.If your programme is stuck in an endless loop, what keys you’ll press?\n",
    "\n",
    "Control + C"
   ]
  },
  {
   "cell_type": "raw",
   "id": "37d75a3d",
   "metadata": {},
   "source": [
    "10. How can you tell the difference between break and continue?\n",
    "\n",
    "break keyword is used in case we want to terminate execution of the loop if a condition is satisfied.\n",
    "continue keyword is used in case we want to skip execution of next lines in the loop for that iteration\n",
    "\n"
   ]
  },
  {
   "cell_type": "raw",
   "id": "25dc790e",
   "metadata": {},
   "source": [
    "11. In a for loop, what is the difference between range(10), range(0, 10), and range(0, 10, 1)?\n",
    "\n",
    "range(10) -> creates a iterable of items from 0 till 9\n",
    "range(0,10) -> creates a iterable of items starting from 0 till 9\n",
    "range(0,10) -> creates a iterable of items from 0 till 9 with step size of 1"
   ]
  },
  {
   "cell_type": "code",
   "execution_count": 22,
   "id": "df2faac3",
   "metadata": {},
   "outputs": [
    {
     "data": {
      "text/plain": [
       "[0, 1, 2, 3, 4, 5, 6, 7, 8, 9]"
      ]
     },
     "execution_count": 22,
     "metadata": {},
     "output_type": "execute_result"
    }
   ],
   "source": [
    "list(range(0,10,1))"
   ]
  },
  {
   "cell_type": "raw",
   "id": "bb4870ca",
   "metadata": {},
   "source": [
    "12. Write a short program that prints the numbers 1 to 10 using a for loop. Then write an equivalent program that prints the numbers 1 to 10 using a while loop.\n"
   ]
  },
  {
   "cell_type": "code",
   "execution_count": 23,
   "id": "8dd3e532",
   "metadata": {},
   "outputs": [
    {
     "name": "stdout",
     "output_type": "stream",
     "text": [
      "1\n",
      "2\n",
      "3\n",
      "4\n",
      "5\n",
      "6\n",
      "7\n",
      "8\n",
      "9\n",
      "10\n"
     ]
    }
   ],
   "source": [
    "for i in range(1,11):\n",
    "    print(i)"
   ]
  },
  {
   "cell_type": "code",
   "execution_count": 30,
   "id": "001ee4bf",
   "metadata": {},
   "outputs": [
    {
     "name": "stdout",
     "output_type": "stream",
     "text": [
      "1\n",
      "2\n",
      "3\n",
      "4\n",
      "5\n",
      "6\n",
      "7\n",
      "8\n",
      "9\n",
      "10\n"
     ]
    }
   ],
   "source": [
    "i = 1\n",
    "while i < 11:\n",
    "    print(i)\n",
    "    i = i + 1\n",
    "    "
   ]
  },
  {
   "cell_type": "raw",
   "id": "6e6834d1",
   "metadata": {},
   "source": [
    "13. If you had a function named bacon() inside a module named spam, how would you call it after importing spam?\n",
    "\n",
    "using a dot(.) operator along with the module name"
   ]
  }
 ],
 "metadata": {
  "kernelspec": {
   "display_name": "Python 3",
   "language": "python",
   "name": "python3"
  },
  "language_info": {
   "codemirror_mode": {
    "name": "ipython",
    "version": 3
   },
   "file_extension": ".py",
   "mimetype": "text/x-python",
   "name": "python",
   "nbconvert_exporter": "python",
   "pygments_lexer": "ipython3",
   "version": "3.8.8"
  }
 },
 "nbformat": 4,
 "nbformat_minor": 5
}
