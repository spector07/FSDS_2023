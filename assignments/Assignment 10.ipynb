{
 "cells": [
  {
   "cell_type": "code",
   "execution_count": 1,
   "id": "311c3e31",
   "metadata": {},
   "outputs": [],
   "source": [
    "# 1. What is the role of try and exception block?\n",
    "\n",
    "To handle the runtime exceptions and errors, try and exception blocks are used.\n",
    "The try block executes statements written inside \n",
    "If exception occurs then exception block is executed.\n",
    "Exception block accepts all built in exceptions and user defined exceptions.\n",
    "Try block is responsible to hold executable statements and if executed successfully, exception block is not executed."
   ]
  },
  {
   "cell_type": "code",
   "execution_count": 12,
   "id": "0622123b",
   "metadata": {},
   "outputs": [],
   "source": [
    "# 2. What is the syntax for a basic try-except block?\n",
    "\n",
    "try:\n",
    "    pass\n",
    "except:\n",
    "    pass"
   ]
  },
  {
   "cell_type": "code",
   "execution_count": 16,
   "id": "726a63cb",
   "metadata": {},
   "outputs": [],
   "source": [
    "# 3. What happens if an exception occurs inside a try block and there is no matching except block?\n",
    "\n",
    "Python gives syntax error for this kind of situation"
   ]
  },
  {
   "cell_type": "code",
   "execution_count": 4,
   "id": "1aa7e830",
   "metadata": {},
   "outputs": [],
   "source": [
    "# 4. What is the difference between using a bare except block and specifying a specific exception type?\n",
    "\n",
    "When we use bare except block it accepts all in-built exception classes.\n",
    "After specifying the exception type only that type of execption is handled. In other words, only for that specific type of\n",
    "exception, except block is executed. Same scenario is applicable to user defined exceptions."
   ]
  },
  {
   "cell_type": "code",
   "execution_count": 18,
   "id": "9f3247f6",
   "metadata": {},
   "outputs": [
    {
     "name": "stdout",
     "output_type": "stream",
     "text": [
      "inner except 'tuple' object has no attribute 'push'\n"
     ]
    }
   ],
   "source": [
    "# 5. Can you have nested try-except blocks in Python? If yes, then give an example.\n",
    "\n",
    "# Yes we have nested try-except blocks.\n",
    "\n",
    "try:\n",
    "    c = 1/1\n",
    "    try:\n",
    "        d = (10,20)\n",
    "        d.push(30)\n",
    "    except Exception as e:\n",
    "        print(\"inner except\", e)\n",
    "except Exception as e:\n",
    "    print(\"outer except\", e)\n",
    "        "
   ]
  },
  {
   "cell_type": "code",
   "execution_count": 23,
   "id": "c7535e86",
   "metadata": {},
   "outputs": [
    {
     "name": "stdout",
     "output_type": "stream",
     "text": [
      "Please enter first values10\n",
      "Please enter second values0\n",
      "ZeroDivisionError occurred  division by zero\n"
     ]
    }
   ],
   "source": [
    "# 6. Can we use multiple exception blocks, if yes then give an example.\n",
    "\n",
    "# Yes we can use multiple except blocks\n",
    "\n",
    "try:\n",
    "    a = int(input(\"Please enter first values\"))\n",
    "    if a < 0:\n",
    "        raise Exception(\"Please enter positive value\")\n",
    "    b = int(input(\"Please enter second values\"))\n",
    "    c = a/b\n",
    "    print(\"Success!\", c)\n",
    "except ZeroDivisionError as e:\n",
    "    print(\"ZeroDivisionError occurred \", e)\n",
    "except Exception as e:\n",
    "    print(e)"
   ]
  },
  {
   "cell_type": "code",
   "execution_count": 7,
   "id": "d0a1e50f",
   "metadata": {},
   "outputs": [],
   "source": [
    "# 7. Write the reason due to which following errors are raised:\n",
    "\n",
    "# a. EOFError\n",
    "It is raised when input function hits end of the file without reading any data\n",
    "\n",
    "# b. FloatingPointError\n",
    "As it is known that 1.2 – 1.0 = 0.2 . But when we try to the same in python, the results is 0.199999999999999996\n",
    "So to avoid such large sequence of numbers after floating point format function is used.\n",
    "\n",
    "# c. IndexError\n",
    "This error occurs when we try to access an element in the list which is out of range.\n",
    "Suppose list contains [0-n] index and we try to access [n+1]\n",
    "\n",
    "\n",
    "# d. MemoryError\n",
    "This error will occur if operation run out of memory.\n",
    "The interpreter has run out of memory to allocate to python program\n",
    "\n",
    "# e. OverflowError\n",
    "When the result of arithmetic errors is too large and it can not be represented, this error will be raised\n",
    "\n",
    "# f. TabError\n",
    "This error will occur if indentatation in python program is inconsistent\n",
    "\n",
    "# g. ValueError\n",
    "On passing the argument to any function, the type of the value is correct but value is inappropriate,\n",
    "in that case this error is reported"
   ]
  },
  {
   "cell_type": "code",
   "execution_count": 24,
   "id": "5e248972",
   "metadata": {},
   "outputs": [
    {
     "name": "stdout",
     "output_type": "stream",
     "text": [
      "Please enter first values1\n",
      "Please enter second values0\n",
      "ZeroDivisionError occurred  division by zero\n",
      "Pleas enter a number1\n",
      "1\n"
     ]
    }
   ],
   "source": [
    "# 8. Write code for the following given scenario and add try-exception block to it.\n",
    "\n",
    "# a. Program to divide two numbers\n",
    "try:\n",
    "    a = int(input(\"Please enter first values\"))\n",
    "    if a < 0:\n",
    "        raise Exception(\"Please enter positive value\")\n",
    "    b = int(input(\"Please enter second values\"))\n",
    "    c = a/b\n",
    "    print(\"Success!\", c)\n",
    "except ZeroDivisionError as e:\n",
    "    print(\"ZeroDivisionError occurred \", e)\n",
    "except Exception as e:\n",
    "    print(e)"
   ]
  },
  {
   "cell_type": "code",
   "execution_count": 25,
   "id": "b8346dda",
   "metadata": {},
   "outputs": [
    {
     "name": "stdout",
     "output_type": "stream",
     "text": [
      "Pleas enter a numbers\n",
      "invalid literal for int() with base 10: 's'\n"
     ]
    }
   ],
   "source": [
    "# b. Program to convert a string to an integer\n",
    "\n",
    "try:\n",
    "    a = str(input(\"Pleas enter a number\"))\n",
    "    b =  int(a)\n",
    "    print(b)\n",
    "except Exception as e:\n",
    "    print(e)\n"
   ]
  },
  {
   "cell_type": "code",
   "execution_count": 31,
   "id": "24783b59",
   "metadata": {},
   "outputs": [
    {
     "name": "stdout",
     "output_type": "stream",
     "text": [
      "Element is not accessible\n"
     ]
    }
   ],
   "source": [
    "# c. Program to access an element in a list\n",
    "\n",
    "try:\n",
    "    l = [1,3,3,5,4,6,7,8,4,24,6,7,455,3]\n",
    "    print(l[100])\n",
    "except:\n",
    "    print(\"Element is not accessible\")"
   ]
  },
  {
   "cell_type": "code",
   "execution_count": 29,
   "id": "24567757",
   "metadata": {},
   "outputs": [
    {
     "name": "stdout",
     "output_type": "stream",
     "text": [
      "list index out of range\n"
     ]
    }
   ],
   "source": [
    "# d. Program to handle a specific exception\n",
    "\n",
    "try:\n",
    "    l = [1,3,3,5,4,6,7,8,4,24,6,7,455,3]\n",
    "    print(l[100])\n",
    "except IndexError as e:\n",
    "    print(e)"
   ]
  },
  {
   "cell_type": "code",
   "execution_count": 33,
   "id": "a82c5f32",
   "metadata": {},
   "outputs": [
    {
     "name": "stdout",
     "output_type": "stream",
     "text": [
      "list index out of range\n"
     ]
    }
   ],
   "source": [
    "# d. Program to handle a specific exception\n",
    "\n",
    "try:\n",
    "    l = [1,3,3,5,4,6,7,8,4,24,6,7,455,3]\n",
    "    print(l[100])\n",
    "except Exception as e:\n",
    "    print(e)"
   ]
  },
  {
   "cell_type": "code",
   "execution_count": null,
   "id": "11a28ee6",
   "metadata": {},
   "outputs": [],
   "source": []
  }
 ],
 "metadata": {
  "kernelspec": {
   "display_name": "Python 3",
   "language": "python",
   "name": "python3"
  },
  "language_info": {
   "codemirror_mode": {
    "name": "ipython",
    "version": 3
   },
   "file_extension": ".py",
   "mimetype": "text/x-python",
   "name": "python",
   "nbconvert_exporter": "python",
   "pygments_lexer": "ipython3",
   "version": "3.8.8"
  }
 },
 "nbformat": 4,
 "nbformat_minor": 5
}
