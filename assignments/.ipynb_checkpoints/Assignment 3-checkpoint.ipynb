{
 "cells": [
  {
   "cell_type": "code",
   "execution_count": null,
   "id": "2367ca2d",
   "metadata": {},
   "outputs": [],
   "source": [
    "# 1. Why are functions advantageous to have in your programs?\n",
    "\n",
    "\n",
    "Functions are resuable, reduces the replicated code.\n",
    "Functions for a specific functionality can provide desired output based on inputs\n",
    "Variable inputs can be passed to functions like list of arguments, assigned arguments, tuples, string etc. and their combination.\n",
    "This enables one to handle any type of data inside a function.\n"
   ]
  },
  {
   "cell_type": "code",
   "execution_count": 2,
   "id": "451edd1e",
   "metadata": {},
   "outputs": [
    {
     "data": {
      "text/plain": [
       "'When the function is called then only it runs the code inside the function'"
      ]
     },
     "execution_count": 2,
     "metadata": {},
     "output_type": "execute_result"
    }
   ],
   "source": [
    "# 2. When does the code in a function run: when it's specified or when it's called?\n",
    "\n",
    "'''When the function is called then only it runs the code inside the function'''"
   ]
  },
  {
   "cell_type": "code",
   "execution_count": 3,
   "id": "a2aed37a",
   "metadata": {},
   "outputs": [
    {
     "data": {
      "text/plain": [
       "'def statement followed by function name'"
      ]
     },
     "execution_count": 3,
     "metadata": {},
     "output_type": "execute_result"
    }
   ],
   "source": [
    "# 3. What statement creates a function?\n",
    "\n",
    "'''def statement followed by function name'''"
   ]
  },
  {
   "cell_type": "code",
   "execution_count": 4,
   "id": "aafee807",
   "metadata": {},
   "outputs": [
    {
     "data": {
      "text/plain": [
       "'Function is a set of statement, a definition where as function call is an object which accepts the arguments and executes the function definition'"
      ]
     },
     "execution_count": 4,
     "metadata": {},
     "output_type": "execute_result"
    }
   ],
   "source": [
    "# 4. What is the difference between a function and a function call?\n",
    "\n",
    "'''Function is a set of statement, a definition where as function call is an object which accepts the arguments and executes the function definition'''"
   ]
  },
  {
   "cell_type": "code",
   "execution_count": null,
   "id": "8d514ea0",
   "metadata": {},
   "outputs": [],
   "source": [
    "# 5. How many global scopes are there in a Python program? How many local scopes?\n",
    "\n",
    "Inside the function its a local scope\n",
    "Inside the outer function its a enclosing scope\n",
    "Inside module, its a global scope\n",
    "Using global keyword, variable is made global"
   ]
  },
  {
   "cell_type": "code",
   "execution_count": 8,
   "id": "02499089",
   "metadata": {},
   "outputs": [
    {
     "data": {
      "text/plain": [
       "'After completing the execution of a function, local variables are destroyed'"
      ]
     },
     "execution_count": 8,
     "metadata": {},
     "output_type": "execute_result"
    }
   ],
   "source": [
    "# 6. What happens to variables in a local scope when the function call returns?\n",
    "\n",
    "'''After completing the execution of a function, local variables are destroyed'''"
   ]
  },
  {
   "cell_type": "code",
   "execution_count": null,
   "id": "3181424c",
   "metadata": {},
   "outputs": [],
   "source": [
    "# 7. What is the concept of a return value? Is it possible to have a return value in an expression?\n",
    "\n",
    "Return value is final result returned from a function. It can be of any type. \n",
    "Return value can not be an expression.\n"
   ]
  },
  {
   "cell_type": "code",
   "execution_count": 9,
   "id": "9284016d",
   "metadata": {},
   "outputs": [
    {
     "data": {
      "text/plain": [
       "'In such cases, return values of that function is always None.'"
      ]
     },
     "execution_count": 9,
     "metadata": {},
     "output_type": "execute_result"
    }
   ],
   "source": [
    "# 8. If a function does not have a return statement, what is the return value of a call to that function?\n",
    "\n",
    "'''In such cases, return values of that function is always None.'''"
   ]
  },
  {
   "cell_type": "code",
   "execution_count": 13,
   "id": "0308eac7",
   "metadata": {},
   "outputs": [
    {
     "name": "stdout",
     "output_type": "stream",
     "text": [
      "12\n"
     ]
    }
   ],
   "source": [
    "# 9. How do you make a function variable refer to the global variable?\n",
    "\n",
    "'''Inside a function variable is always local, but to make it global, we can use the keyword global with variable'''\n",
    "\n",
    "def func():\n",
    "    global a\n",
    "    a = 7\n",
    "\n",
    "func()\n",
    "b = 5\n",
    "add = a + b\n",
    "print(add)"
   ]
  },
  {
   "cell_type": "code",
   "execution_count": 14,
   "id": "ae046a64",
   "metadata": {},
   "outputs": [
    {
     "data": {
      "text/plain": [
       "NoneType"
      ]
     },
     "execution_count": 14,
     "metadata": {},
     "output_type": "execute_result"
    }
   ],
   "source": [
    "# 10. What is the data type of None?\n",
    "\n",
    "'''When a function does not return anything, then its a None data type'''\n",
    "\n",
    "def no():\n",
    "    pass\n",
    "\n",
    "type(no())"
   ]
  },
  {
   "cell_type": "code",
   "execution_count": 15,
   "id": "b6d71a8b",
   "metadata": {},
   "outputs": [
    {
     "data": {
      "text/plain": [
       "'It imports module and functions inside the module'"
      ]
     },
     "execution_count": 15,
     "metadata": {},
     "output_type": "execute_result"
    }
   ],
   "source": [
    "# 11. What does the sentence import areallyourpetsnamederic do?\n",
    "\n",
    "'''It imports module and functions inside the module'''"
   ]
  },
  {
   "cell_type": "code",
   "execution_count": null,
   "id": "6494b45a",
   "metadata": {},
   "outputs": [],
   "source": [
    "# 12. If you had a bacon() feature in a spam module, what would you call it after importing spam?\n",
    "\n",
    "import spam\n",
    "\n",
    "spam.bacon()"
   ]
  },
  {
   "cell_type": "code",
   "execution_count": null,
   "id": "77623566",
   "metadata": {},
   "outputs": [],
   "source": [
    "# 13. What can you do to save a programme from crashing if it encounters an error?\n",
    "\n",
    "We can use error and exception handling to avoid crashing a program"
   ]
  },
  {
   "cell_type": "code",
   "execution_count": null,
   "id": "aeedda1f",
   "metadata": {},
   "outputs": [],
   "source": [
    "# 14. What is the purpose of the try clause? What is the purpose of the except clause?\n",
    "\n",
    "Try clause contains all the statements to be executed in function.\n",
    "Catch clause handles the error or exception thrown from try clause. One can read the error or exception inside catch block."
   ]
  },
  {
   "cell_type": "code",
   "execution_count": null,
   "id": "33814768",
   "metadata": {},
   "outputs": [],
   "source": []
  }
 ],
 "metadata": {
  "kernelspec": {
   "display_name": "Python 3",
   "language": "python",
   "name": "python3"
  },
  "language_info": {
   "codemirror_mode": {
    "name": "ipython",
    "version": 3
   },
   "file_extension": ".py",
   "mimetype": "text/x-python",
   "name": "python",
   "nbconvert_exporter": "python",
   "pygments_lexer": "ipython3",
   "version": "3.8.8"
  }
 },
 "nbformat": 4,
 "nbformat_minor": 5
}
