{
 "cells": [
  {
   "cell_type": "code",
   "execution_count": 1,
   "id": "5b0eb61b",
   "metadata": {},
   "outputs": [],
   "source": [
    "# 1. What is a lambda function in Python, and how does it differ from a regular function?\n",
    "\n",
    "# Lambda function is an anonymous function which accepts multiple parameters but returns only one expression.\n",
    "# Regular functions are written with def keyword followed by function names.\n",
    "# Lambda fuction is written with lambda keyword and no name for the function.\n",
    "# In regular function return statement is used, in lambda function no need to use return statement.\n"
   ]
  },
  {
   "cell_type": "code",
   "execution_count": 5,
   "id": "bbc31844",
   "metadata": {},
   "outputs": [
    {
     "name": "stdout",
     "output_type": "stream",
     "text": [
      "3\n",
      "12\n",
      "('kalpesh', 'bari')\n"
     ]
    }
   ],
   "source": [
    "# 2. Can a lambda function in Python have multiple arguments? If yes, how can you define and use them?\n",
    "\n",
    "# Yes we can send multiple arguments in lambda function\n",
    "\n",
    "addition = lambda x, y: x + y\n",
    "print (addition(1, 2))\n",
    "\n",
    "d = lambda a,b,c : a+b+c\n",
    "print(d(3,4,5))\n",
    "\n",
    "s = lambda *x: x\n",
    "print (s('kalpesh','bari'))"
   ]
  },
  {
   "cell_type": "code",
   "execution_count": 16,
   "id": "b3ff8246",
   "metadata": {},
   "outputs": [
    {
     "name": "stdout",
     "output_type": "stream",
     "text": [
      "Lambda with filter:  [2, 4, 6, 8, 10]\n",
      "Lambda with map:  [3, 4, 5, 6, 7, 8, 9, 10, 11, 12]\n",
      "7\n"
     ]
    }
   ],
   "source": [
    "# 3. How are lambda functions typically used in Python? Provide an example use case.\n",
    "\n",
    "# Filtering the list items\n",
    "\n",
    "l = [1,2,3,4,5,6,7,8,9,10]\n",
    "filtered = list(filter(lambda x : x%2 == 0, l))\n",
    "print('Lambda with filter: ', filtered)\n",
    "\n",
    "# Using map function to alter the items in list\n",
    "mappedList = list(map(lambda x: x+2, l))\n",
    "print('Lambda with map: ', mappedList)\n",
    "\n",
    "# max / min value\n",
    "max_value = (lambda x, y: x if x > y else y)(5, 7)\n",
    "print(max_value)"
   ]
  },
  {
   "cell_type": "code",
   "execution_count": 1,
   "id": "eb884e1e",
   "metadata": {},
   "outputs": [],
   "source": [
    "# 4. What are the advantages and limitations of lambda functions compared to regular functions in Python?\n",
    "\n",
    "# Advantages:\n",
    "# Lambda functions are simpler.\n",
    "# Additional variables are not required.\n",
    "\n",
    "# Limitations:\n",
    "# Lambda functions are tricky to interpret.\n",
    "# They dont have the name thus developer has to read the function to understand code.\n",
    "# It can execute only one statement."
   ]
  },
  {
   "cell_type": "code",
   "execution_count": 2,
   "id": "f868e66c",
   "metadata": {},
   "outputs": [
    {
     "data": {
      "text/plain": [
       "100"
      ]
     },
     "execution_count": 2,
     "metadata": {},
     "output_type": "execute_result"
    }
   ],
   "source": [
    "# 5. Are lambda functions in Python able to access variables defined outside of their own scope?\n",
    "# Explain with an example\n",
    "\n",
    "# Yes, it can access variables defined outside of their own scope\n",
    "\n",
    "a = 10\n",
    "\n",
    "s = lambda x : x*a\n",
    "\n",
    "s(10)"
   ]
  },
  {
   "cell_type": "code",
   "execution_count": 3,
   "id": "5c9c8ecf",
   "metadata": {},
   "outputs": [
    {
     "data": {
      "text/plain": [
       "4"
      ]
     },
     "execution_count": 3,
     "metadata": {},
     "output_type": "execute_result"
    }
   ],
   "source": [
    "# 6. Write a lambda function to calculate the square of a given number.\n",
    "\n",
    "s = lambda x : x**2\n",
    "\n",
    "s(2)"
   ]
  },
  {
   "cell_type": "code",
   "execution_count": 6,
   "id": "7ecd9dc1",
   "metadata": {},
   "outputs": [
    {
     "data": {
      "text/plain": [
       "6356"
      ]
     },
     "execution_count": 6,
     "metadata": {},
     "output_type": "execute_result"
    }
   ],
   "source": [
    "# 7. Create a lambda function to find the maximum value in a list of integers.\n",
    "\n",
    "l = [1,2,3,4,5,6,23,6356,745,2232]\n",
    "\n",
    "max(l, key = lambda x : x)"
   ]
  },
  {
   "cell_type": "code",
   "execution_count": 7,
   "id": "66b4daf6",
   "metadata": {},
   "outputs": [
    {
     "name": "stdout",
     "output_type": "stream",
     "text": [
      "Even numbers:  [2, 4, 6, 8, 10]\n"
     ]
    }
   ],
   "source": [
    "# 8. Implement a lambda function to filter out all the even numbers from a list of integers.\n",
    "\n",
    "l = [1,2,3,4,5,6,7,8,9,10]\n",
    "filtered = list(filter(lambda x : x%2 == 0, l))\n",
    "print('Even numbers: ', filtered)"
   ]
  },
  {
   "cell_type": "code",
   "execution_count": 15,
   "id": "a05a1919",
   "metadata": {},
   "outputs": [
    {
     "data": {
      "text/plain": [
       "['is', 'This', 'test', 'sample', 'programming']"
      ]
     },
     "execution_count": 15,
     "metadata": {},
     "output_type": "execute_result"
    }
   ],
   "source": [
    "# 9. Write a lambda function to sort a list of strings in ascending order based on the length of each string\n",
    "\n",
    "ls = ['This','is','sample','test','programming']\n",
    "\n",
    "s = lambda x : len(x)\n",
    "s(ls)\n",
    "\n",
    "ls.sort(key=lambda x : len(x))\n",
    "ls"
   ]
  },
  {
   "cell_type": "code",
   "execution_count": 31,
   "id": "aeb612ba",
   "metadata": {},
   "outputs": [
    {
     "data": {
      "text/plain": [
       "[1, 2, 4, 7, 78, 342]"
      ]
     },
     "execution_count": 31,
     "metadata": {},
     "output_type": "execute_result"
    }
   ],
   "source": [
    "# 10. Create a lambda function that takes two lists as input and returns a new list containing the \n",
    "# common elements between the two lists\n",
    "\n",
    "\n",
    "l1 = [1,2,4,5,7,84,2,4,5,78,342,21]\n",
    "l2 = [1,2,3,4,6,7,8,83,22,78,342]\n",
    "\n",
    "d = lambda x, y : set(x).intersection(y)\n",
    "list(d(l1,l2))\n"
   ]
  },
  {
   "cell_type": "code",
   "execution_count": 37,
   "id": "0630aecc",
   "metadata": {},
   "outputs": [
    {
     "name": "stdout",
     "output_type": "stream",
     "text": [
      "Enter a number: 5\n",
      "Factorial of  5 :  120\n"
     ]
    }
   ],
   "source": [
    "# 11. Write a recursive function to calculate the factorial of a given positive integer.\n",
    "\n",
    "def factorial(n):\n",
    "    if n == 1:\n",
    "        return n\n",
    "    else:\n",
    "        return n*factorial(n-1)\n",
    "\n",
    "psn = int(input(\"Enter a number: \"))\n",
    "\n",
    "if psn < 0:\n",
    "    print('Negative number is entered')\n",
    "if psn > 0:\n",
    "    print('Factorial of ', psn, ': ', factorial(psn))"
   ]
  },
  {
   "cell_type": "code",
   "execution_count": 47,
   "id": "4ee245cc",
   "metadata": {},
   "outputs": [
    {
     "data": {
      "text/plain": [
       "2"
      ]
     },
     "execution_count": 47,
     "metadata": {},
     "output_type": "execute_result"
    }
   ],
   "source": [
    "# 12. Implement a recursive function to compute the nth Fibonacci number.\n",
    "# 0,1,1,2,3,5,8,13\n",
    "\n",
    "def fibonacci(n):\n",
    "    if n <= 2:\n",
    "        return n-1\n",
    "    else:\n",
    "        return fibonacci(n-1) + fibonacci(n-2)\n",
    "    \n",
    "fibonacci(4)"
   ]
  },
  {
   "cell_type": "code",
   "execution_count": 49,
   "id": "b6d369a5",
   "metadata": {},
   "outputs": [
    {
     "data": {
      "text/plain": [
       "45"
      ]
     },
     "execution_count": 49,
     "metadata": {},
     "output_type": "execute_result"
    }
   ],
   "source": [
    "# 13. Create a recursive function to find the sum of all the elements in a given list.\n",
    "\n",
    "def summ(l):\n",
    "    if len(l) == 0:\n",
    "        return 0\n",
    "    else:\n",
    "        return l[0] + summ(l[1:])\n",
    "    \n",
    "summ([1,2,3,4,5,6,7,8,9])"
   ]
  },
  {
   "cell_type": "code",
   "execution_count": 61,
   "id": "c70b621d",
   "metadata": {},
   "outputs": [
    {
     "data": {
      "text/plain": [
       "True"
      ]
     },
     "execution_count": 61,
     "metadata": {},
     "output_type": "execute_result"
    }
   ],
   "source": [
    "# 14. Write a recursive function to determine whether a given string is a palindrome.\n",
    "\n",
    "def palindrome(s):\n",
    "    return len(s) < 2 or s[0] == s[-1] and palindrome(s[1:-1])\n",
    "\n",
    "palindrome('madam')"
   ]
  },
  {
   "cell_type": "code",
   "execution_count": 63,
   "id": "cb4a5704",
   "metadata": {},
   "outputs": [
    {
     "data": {
      "text/plain": [
       "2"
      ]
     },
     "execution_count": 63,
     "metadata": {},
     "output_type": "execute_result"
    }
   ],
   "source": [
    "# 15. Implement a recursive function to find the greatest common divisor (GCD) of two positive integers.\n",
    "\n",
    "def gcd(a,b):\n",
    "    if b == 0:\n",
    "        return a\n",
    "    else:\n",
    "        return gcd(b,a%b)\n",
    "gcd(4,6)"
   ]
  },
  {
   "cell_type": "code",
   "execution_count": null,
   "id": "d80634b6",
   "metadata": {},
   "outputs": [],
   "source": []
  }
 ],
 "metadata": {
  "kernelspec": {
   "display_name": "Python 3",
   "language": "python",
   "name": "python3"
  },
  "language_info": {
   "codemirror_mode": {
    "name": "ipython",
    "version": 3
   },
   "file_extension": ".py",
   "mimetype": "text/x-python",
   "name": "python",
   "nbconvert_exporter": "python",
   "pygments_lexer": "ipython3",
   "version": "3.8.8"
  }
 },
 "nbformat": 4,
 "nbformat_minor": 5
}
