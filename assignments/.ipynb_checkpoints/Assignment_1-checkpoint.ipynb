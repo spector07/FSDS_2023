{
 "cells": [
  {
   "cell_type": "code",
   "execution_count": null,
   "id": "8fd1e93d",
   "metadata": {},
   "outputs": [],
   "source": [
    "1. In the below elements which of them are values or an expression? eg:- values can be integer or string and expressions will be mathematical operators.\n",
    "\n",
    "* -> expression\n",
    "'hello' -> value\n",
    "-87.8 -> values\n",
    "-  -> expression\n",
    "/  -> expression\n",
    "+  -> expression\n",
    "6 -> value\n"
   ]
  },
  {
   "cell_type": "code",
   "execution_count": null,
   "id": "1501a39e",
   "metadata": {},
   "outputs": [],
   "source": [
    "2. What is the difference between string and variable?\n",
    "String is text representation.\n",
    "Variable stores the values, be it a string or interger.\n",
    "String is written in double or single quotes, 'a'+'b' will give 'ab' but 'a' + 10 will give error as it tries to concatinate a number with string.\n",
    "Strings are immutable."
   ]
  },
  {
   "cell_type": "code",
   "execution_count": null,
   "id": "e885b4f4",
   "metadata": {},
   "outputs": [],
   "source": [
    "3. Describe three different data types.\n",
    "\n",
    "str - sequence of characters eg. \"Hello world!\"\n",
    "int - numbers - 1,3,42343,53453413\n",
    "float - numbers - 4356.114\n",
    "tuple - collection of items including strings and numbers, it is immutalbe (1,2,12,1,'ada')\n",
    "set -  collection of unique items {1,2,4}\n",
    "list - collection of items eg. ['sdf',34,'hg',{1,2,4}, {'key1':'adf', 2: 33}]\n",
    "dict - collection of items including strings and numbers represented in key value pair eg. {'key1':'adf', 2: 33}"
   ]
  },
  {
   "cell_type": "code",
   "execution_count": null,
   "id": "5d82ef69",
   "metadata": {},
   "outputs": [],
   "source": [
    "4. What is an expression made up of? What do all expressions do?\n",
    "\n",
    "Expression is made of different operators and operands where operator is a symbol like + - * / % etc and operand is a value like string or number. \n",
    "After interpreting the expression python produces a value or a result\n",
    "Expression can be arithmatic, logical etc.\n",
    "Eg. 1+1, 'a'+'v', 1 >= 0, 'abc' == 'abc'"
   ]
  },
  {
   "cell_type": "code",
   "execution_count": null,
   "id": "ab975ef8",
   "metadata": {},
   "outputs": [],
   "source": [
    "5. This assignment statements, like spam = 10. What is the difference between an expression and a statement?\n",
    "\n",
    "Assignment statements stores the values assigned to the variable and does not provide any result. It is used to display the value.\n",
    "Expression is an assignment but its an evaluation which produces result after python interpretes the expression.\n"
   ]
  },
  {
   "cell_type": "code",
   "execution_count": null,
   "id": "2b6d1f9d",
   "metadata": {},
   "outputs": [],
   "source": [
    "6. After running the following code, what does the variable bacon contain?\n",
    "\n",
    "bacon = 22\n",
    "bacon + 1\n",
    "\n",
    "bacon contains 22 because bacon is not assigned the value of expression."
   ]
  },
  {
   "cell_type": "code",
   "execution_count": null,
   "id": "fc4c8002",
   "metadata": {},
   "outputs": [],
   "source": [
    "7. What should the values of the following two terms be?\n",
    "\n",
    "'spam' + 'spamspam' \n",
    "'spam' * 3\n",
    "\n",
    ">>> 'spamspamspam'"
   ]
  },
  {
   "cell_type": "code",
   "execution_count": null,
   "id": "8b2619c9",
   "metadata": {},
   "outputs": [],
   "source": [
    "8. Why is eggs a valid variable name while 100 is invalid?\n",
    "\n",
    "Variable names should have a combination of letters in lowercase (a to z) or uppercase (A to Z) or digits (0 to 9) or an underscore (_)"
   ]
  },
  {
   "cell_type": "code",
   "execution_count": null,
   "id": "9f8daf62",
   "metadata": {},
   "outputs": [],
   "source": [
    "9. What three functions can be used to get the integer, floating-point number, or string version of a value?\n",
    "int('2')\n",
    "float('2')\n",
    "str(313431)"
   ]
  },
  {
   "cell_type": "code",
   "execution_count": null,
   "id": "c9c0edfe",
   "metadata": {},
   "outputs": [],
   "source": [
    "10. Why does this expression cause an error? How can you fix it?\n",
    "'I have eaten ' + 99 + ' burritos.'\n",
    "\n",
    "Here a number is concatinated with string thus giving error.\n",
    "To resolve this, we need to write 99 in single quotes as below\n",
    "\n",
    "'I have eaten ' + '99' + ' burritos.'"
   ]
  }
 ],
 "metadata": {
  "kernelspec": {
   "display_name": "Python 3",
   "language": "python",
   "name": "python3"
  },
  "language_info": {
   "codemirror_mode": {
    "name": "ipython",
    "version": 3
   },
   "file_extension": ".py",
   "mimetype": "text/x-python",
   "name": "python",
   "nbconvert_exporter": "python",
   "pygments_lexer": "ipython3",
   "version": "3.8.8"
  }
 },
 "nbformat": 4,
 "nbformat_minor": 5
}
