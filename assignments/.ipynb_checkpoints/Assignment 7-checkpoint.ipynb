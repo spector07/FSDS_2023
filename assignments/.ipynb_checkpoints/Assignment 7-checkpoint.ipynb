{
 "cells": [
  {
   "cell_type": "code",
   "execution_count": 6,
   "id": "d331b897",
   "metadata": {},
   "outputs": [
    {
     "name": "stdout",
     "output_type": "stream",
     "text": [
      "First variable is a = 10 & second variable is b = 33.\n",
      "Addition: 10 + 33 = 43\n",
      "Subtraction: 10 - 33 = -23\n",
      "Multiplication: 10 * 33 = 330\n",
      "Division: 10 / 33 = 0.30303030303030304\n"
     ]
    }
   ],
   "source": [
    "# Q.1. Create two int type variables, apply addition, subtraction, division and multiplications\n",
    "# and store the results in variables. Then print the data in the following format by calling the\n",
    "# variables:\n",
    "    \n",
    "# First variable is __ & second variable is __.\n",
    "# Addition: __ + __ = __\n",
    "# Subtraction: __ - __ = __\n",
    "# Multiplication: __ * __ = __\n",
    "# Division: __ / __ = __\n",
    "\n",
    "\n",
    "a = 10\n",
    "b = 33\n",
    "\n",
    "add = a + b\n",
    "sub = a - b\n",
    "mult = a * b\n",
    "div = a / b\n",
    "\n",
    "print(f\"First variable is a = {a} & second variable is b = {b}.\")\n",
    "print(f\"Addition: {a} + {b} = {add}\")\n",
    "print(f\"Subtraction: {a} - {b} = {sub}\")\n",
    "print(f\"Multiplication: {a} * {b} = {mult}\")\n",
    "print(f\"Division: {a} / {b} = {div}\")\n"
   ]
  },
  {
   "cell_type": "code",
   "execution_count": 9,
   "id": "fe98158c",
   "metadata": {},
   "outputs": [
    {
     "name": "stdout",
     "output_type": "stream",
     "text": [
      "4.75\n",
      "4\n",
      "8\n",
      "1\n"
     ]
    }
   ],
   "source": [
    "# Q.2. What is the difference between the following operators:\n",
    "\n",
    "# (i) ‘/’ & ‘//’ \n",
    "\n",
    "# '/' and '//' belong to the arithmetic operators.\n",
    "\n",
    "# '/' is used for the normal division of two numbers.\n",
    "\n",
    "# '//' is used to obtain the smallest integer nearest to the quotient obtained by dividing two numbers.\n",
    "\n",
    "# Eg.\n",
    "\n",
    "print(19/4)\n",
    "print(19//4)\n",
    "\n",
    "# (ii) ‘**’ & ‘^’\n",
    "# ** is the power of operator\n",
    "# ^ is the exclusive OR i.e XOR operator which evaluates to true if and only if its arguments differ (one is True, the other is False).\n",
    "\n",
    "print(2**3)\n",
    "print(2^3)\n"
   ]
  },
  {
   "cell_type": "code",
   "execution_count": null,
   "id": "24423361",
   "metadata": {},
   "outputs": [],
   "source": [
    "# Q.3. List the logical operators.\n",
    "\n",
    "and - Returns True if both statements are true\n",
    "or - Returns True if any of statements is true\n",
    "not - Reverse the result from true to false and vice versa"
   ]
  },
  {
   "cell_type": "code",
   "execution_count": null,
   "id": "607fdb55",
   "metadata": {},
   "outputs": [],
   "source": [
    "# Q.4. Explain right shift operator and left shift operator with examples.\n",
    "\n"
   ]
  },
  {
   "cell_type": "code",
   "execution_count": null,
   "id": "f8e72118",
   "metadata": {},
   "outputs": [],
   "source": []
  }
 ],
 "metadata": {
  "kernelspec": {
   "display_name": "Python 3",
   "language": "python",
   "name": "python3"
  },
  "language_info": {
   "codemirror_mode": {
    "name": "ipython",
    "version": 3
   },
   "file_extension": ".py",
   "mimetype": "text/x-python",
   "name": "python",
   "nbconvert_exporter": "python",
   "pygments_lexer": "ipython3",
   "version": "3.8.8"
  }
 },
 "nbformat": 4,
 "nbformat_minor": 5
}
