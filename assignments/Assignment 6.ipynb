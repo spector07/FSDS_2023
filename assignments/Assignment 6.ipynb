{
 "cells": [
  {
   "cell_type": "code",
   "execution_count": 1,
   "id": "938106dd",
   "metadata": {},
   "outputs": [
    {
     "data": {
      "text/plain": [
       "['False',\n",
       " 'None',\n",
       " 'True',\n",
       " 'and',\n",
       " 'as',\n",
       " 'assert',\n",
       " 'async',\n",
       " 'await',\n",
       " 'break',\n",
       " 'class',\n",
       " 'continue',\n",
       " 'def',\n",
       " 'del',\n",
       " 'elif',\n",
       " 'else',\n",
       " 'except',\n",
       " 'finally',\n",
       " 'for',\n",
       " 'from',\n",
       " 'global',\n",
       " 'if',\n",
       " 'import',\n",
       " 'in',\n",
       " 'is',\n",
       " 'lambda',\n",
       " 'nonlocal',\n",
       " 'not',\n",
       " 'or',\n",
       " 'pass',\n",
       " 'raise',\n",
       " 'return',\n",
       " 'try',\n",
       " 'while',\n",
       " 'with',\n",
       " 'yield']"
      ]
     },
     "execution_count": 1,
     "metadata": {},
     "output_type": "execute_result"
    }
   ],
   "source": [
    "# Q.1. What are keywords in python? Using the keyword library, print all the python keywords.\n",
    "\n",
    "Keywords are reserved words in python library to be used in python programs.\n",
    "\n",
    "import keyword\n",
    "\n",
    "keyword.kwlist"
   ]
  },
  {
   "cell_type": "code",
   "execution_count": null,
   "id": "38535b67",
   "metadata": {},
   "outputs": [],
   "source": [
    "Q.2. What are the rules to create variables in python?\n",
    "\n",
    "Variable name should start with a letter or underscore\n",
    "Variable name should not start with a number\n",
    "Variable name can be combination of (A-z,0-9,_)\n",
    "Variable names are case sensitive"
   ]
  },
  {
   "cell_type": "code",
   "execution_count": null,
   "id": "9df6146f",
   "metadata": {},
   "outputs": [],
   "source": [
    "Q.3. What are the standards and conventions followed for the nomenclature of variables in python to improve code readability and maintainability?\n",
    "\n",
    "Use camel case to define variables with more than two words\n",
    "Use of grammatically correct names for variables\n",
    "Should not conflict with the keywords of python\n",
    "Should not contain special character"
   ]
  },
  {
   "cell_type": "code",
   "execution_count": null,
   "id": "bd5fbd83",
   "metadata": {},
   "outputs": [],
   "source": [
    "Q.4. What will happen if a keyword is used as a variable name?\n",
    "\n",
    "It will return syntax error"
   ]
  },
  {
   "cell_type": "code",
   "execution_count": null,
   "id": "4c88bcbd",
   "metadata": {},
   "outputs": [],
   "source": [
    "Q.5. For what purpose def keyword is used?\n",
    "\n",
    "It is used to define a function"
   ]
  },
  {
   "cell_type": "code",
   "execution_count": 4,
   "id": "2dcf8900",
   "metadata": {},
   "outputs": [
    {
     "name": "stdout",
     "output_type": "stream",
     "text": [
      "It's raining\n",
      "\"hello\"\n",
      "\"\\\" is the backslash\n"
     ]
    }
   ],
   "source": [
    "Q.6. What is the operation of this special character ‘\\’?\n",
    "\n",
    "the backslash \"\\\" as the escape character.\n",
    "It is used in representing certain whitespace characters: \"\\t\" is a tab, \"\\n\" is a newline, and \"\\r\" is a carriage return.\n",
    "For eg.\n",
    "\n",
    "print('It\\'s raining')\n",
    "print(\"\\\"hello\\\"\")\n",
    "print('\"\\\\\" is the backslash')"
   ]
  },
  {
   "cell_type": "code",
   "execution_count": null,
   "id": "98c01f0a",
   "metadata": {},
   "outputs": [],
   "source": [
    "Q.7. Give an example of the following conditions:\n",
    "\n",
    "(i) Homogeneous list - [1,2,3,4,5,6]\n",
    "\n",
    "(ii) Heterogeneous set - {'set',1,4,67,'adf'}\n",
    "\n",
    "(iii) Homogeneous tuple - ('ad','fr','eg')\n"
   ]
  },
  {
   "cell_type": "code",
   "execution_count": 7,
   "id": "8dd43d9a",
   "metadata": {},
   "outputs": [
    {
     "data": {
      "text/plain": [
       "[5, 2, 4]"
      ]
     },
     "execution_count": 7,
     "metadata": {},
     "output_type": "execute_result"
    }
   ],
   "source": [
    "# Q.8. Explain the mutable and immutable data types with proper explanation & examples.\n",
    "\n",
    "# There are basically 3 mutable data types in Python:\n",
    "\n",
    "# List\n",
    "# A list data structure is a ordered sequence of elements in Python, that is mutable, or changeable. \n",
    "# This is because we can change the value of a list in Python by assigning a new value to our already existing list. \n",
    "# We need not create any separate (or new) copy of the list to perform these operations. \n",
    "# A few examples for the same are given below.\n",
    "\n",
    "l = [1,2,4]\n",
    "l[0] = 5\n",
    "l\n"
   ]
  },
  {
   "cell_type": "code",
   "execution_count": 12,
   "id": "00a4f7d8",
   "metadata": {},
   "outputs": [
    {
     "name": "stdout",
     "output_type": "stream",
     "text": [
      "Add in set:  {0, 1, 67, 3, 4, 12423, 8, 56, 58}\n",
      "Update set:  {0, 1, 2, 67, 3, 4, 12423, 8, 56, 12121, 58, 221}\n",
      "Remove from set:  {0, 1, 2, 67, 3, 4, 8, 56, 12121, 58, 221}\n"
     ]
    }
   ],
   "source": [
    "# Set\n",
    "\n",
    "# A set is an unordered collection of items in Python\n",
    "# We can add, update or remove any element from the set. \n",
    "# The addition of elements can be performed using the add() method in Python. \n",
    "# And, updating operations can be performed using the update() method. \n",
    "# We can use the remove() in Python to remove elements from a set.\n",
    "\n",
    "s = {1,3,56,8,67,4,58,0}\n",
    "\n",
    "s.add(12423)\n",
    "print('Add in set: ',s)\n",
    "\n",
    "s.update([1,2,221,12121])\n",
    "print('Update set: ',s)\n",
    "\n",
    "s.remove(12423)\n",
    "print('Remove from set: ', s)\n"
   ]
  },
  {
   "cell_type": "code",
   "execution_count": 17,
   "id": "c1714b6d",
   "metadata": {},
   "outputs": [
    {
     "name": "stdout",
     "output_type": "stream",
     "text": [
      "Adding an element in dict:  {'state': 'WB', 'Capital': 'Kolkata', 'add': 20}\n",
      "Remove item with specified key:  {'Capital': 'Kolkata', 'add': 20}\n"
     ]
    },
    {
     "data": {
      "text/plain": [
       "{}"
      ]
     },
     "execution_count": 17,
     "metadata": {},
     "output_type": "execute_result"
    }
   ],
   "source": [
    "# Dictionary\n",
    "\n",
    "# Dictionary in Python is an unordered collection of items. \n",
    "# Each item of a dictionary has a key/value pair, using which we can access a particular key or value of a dictionary. \n",
    "# Keys in dictionaries are unique in nature.\n",
    "\n",
    "# The addition of items can be performed by using the keys of the dictionary. \n",
    "# If the item is already present, then simply the value gets updated. \n",
    "# Removing elements in a dictionary can be done simply using pop(), popitem(), clear() or del() in Python.\n",
    "\n",
    "d = {\"state\":\"WB\", \"Capital\":\"Kolkata\"}\n",
    "\n",
    "d['add'] = 20\n",
    "print('Adding an element in dict: ', d)\n",
    "\n",
    "d.pop('state')\n",
    "print('Remove item with specified key: ', d)\n",
    "\n",
    "d.clear()\n",
    "d"
   ]
  },
  {
   "cell_type": "code",
   "execution_count": 24,
   "id": "8933054f",
   "metadata": {},
   "outputs": [
    {
     "name": "stdout",
     "output_type": "stream",
     "text": [
      "<class 'int'>\n",
      "<class 'float'>\n",
      "<class 'tuple'>\n",
      "<class 'complex'>\n"
     ]
    },
    {
     "ename": "TypeError",
     "evalue": "'str' object does not support item assignment",
     "output_type": "error",
     "traceback": [
      "\u001b[1;31m---------------------------------------------------------------------------\u001b[0m",
      "\u001b[1;31mTypeError\u001b[0m                                 Traceback (most recent call last)",
      "\u001b[1;32m<ipython-input-24-4585a392efd4>\u001b[0m in \u001b[0;36m<module>\u001b[1;34m\u001b[0m\n\u001b[0;32m     26\u001b[0m \u001b[1;31m# While modifying any part of the string, we get problems indicating that strings are not mutable in nature.\u001b[0m\u001b[1;33m\u001b[0m\u001b[1;33m\u001b[0m\u001b[1;33m\u001b[0m\u001b[0m\n\u001b[0;32m     27\u001b[0m \u001b[0ms\u001b[0m \u001b[1;33m=\u001b[0m \u001b[1;34m'samplestring'\u001b[0m\u001b[1;33m\u001b[0m\u001b[1;33m\u001b[0m\u001b[0m\n\u001b[1;32m---> 28\u001b[1;33m \u001b[0ms\u001b[0m\u001b[1;33m[\u001b[0m\u001b[1;36m1\u001b[0m\u001b[1;33m]\u001b[0m \u001b[1;33m=\u001b[0m \u001b[1;34m'w'\u001b[0m\u001b[1;33m\u001b[0m\u001b[1;33m\u001b[0m\u001b[0m\n\u001b[0m\u001b[0;32m     29\u001b[0m \u001b[0ms\u001b[0m\u001b[1;33m\u001b[0m\u001b[1;33m\u001b[0m\u001b[0m\n\u001b[0;32m     30\u001b[0m \u001b[1;33m\u001b[0m\u001b[0m\n",
      "\u001b[1;31mTypeError\u001b[0m: 'str' object does not support item assignment"
     ]
    }
   ],
   "source": [
    "# Immutable datatypes are objects that cannot be modified or altered after they have been created \n",
    "# (for example, by adding new elements, removing elements, or replacing elements). \n",
    "# Python's immutable data types are:\n",
    "\n",
    "# Int\n",
    "a = 10\n",
    "print(type(a))\n",
    "\n",
    "# Float\n",
    "f = 12.22\n",
    "print(type(f))\n",
    "\n",
    "# Tuple\n",
    "# In tuple we can't append or update anything in them. \n",
    "# While modifying any item in a tuple, we get errors 'tuple' object does not support item assignment\n",
    "t = (12,34,56,45)\n",
    "print(type(t))\n",
    "\n",
    "# Complex\n",
    "inputNumber = 1+2j\n",
    "print(type(inputNumber))\n",
    "\n",
    "\n",
    "# String\n",
    "# We cannot append or update anything in them. \n",
    "# While modifying any part of the string, we get problems indicating that strings are not mutable in nature.\n",
    "s = 'samplestring'\n",
    "s[1] = 'w'\n",
    "s\n",
    "\n"
   ]
  },
  {
   "cell_type": "code",
   "execution_count": 59,
   "id": "e3a3cb84",
   "metadata": {},
   "outputs": [
    {
     "name": "stdout",
     "output_type": "stream",
     "text": [
      "         * \n",
      "       * * * \n",
      "     * * * * * \n",
      "   * * * * * * * \n",
      " * * * * * * * * * \n"
     ]
    }
   ],
   "source": [
    "# Q.9. Write a code to create the given structure using only for loop.\n",
    "#     *\n",
    "#    ***\n",
    "#   *****\n",
    "#  *******\n",
    "# *********\n",
    "\n",
    "m = 10\n",
    "\n",
    "for i in range(m):\n",
    "    if i%2 != 0:\n",
    "        for j in range(i,m):\n",
    "            print(\"\",end=\" \")\n",
    "        for j in range(i):\n",
    "            print(\"*\",end=\" \")\n",
    "        print()\n"
   ]
  },
  {
   "cell_type": "code",
   "execution_count": 61,
   "id": "70dbfe06",
   "metadata": {},
   "outputs": [
    {
     "name": "stdout",
     "output_type": "stream",
     "text": [
      " |||||||||\n",
      "  |||||||\n",
      "   |||||\n",
      "    |||\n",
      "    |\n",
      "  "
     ]
    }
   ],
   "source": [
    "# Q.10. Write a code to create the given structure using while loop.\n",
    "# |||||||||\n",
    "#  |||||||\n",
    "#   |||||\n",
    "#    |||\n",
    "#     |\n",
    "a = 9\n",
    "n = 9\n",
    "while a < 10 and a > 0:\n",
    "    print('', end=' ')\n",
    "    if a%2 != 0:\n",
    "        print('|'*a)\n",
    "        while a < n-1:\n",
    "            print(' ', end='')\n",
    "            n = n - 1\n",
    "    a = a - 1\n"
   ]
  },
  {
   "cell_type": "code",
   "execution_count": null,
   "id": "5e2b1a06",
   "metadata": {},
   "outputs": [],
   "source": []
  }
 ],
 "metadata": {
  "kernelspec": {
   "display_name": "Python 3",
   "language": "python",
   "name": "python3"
  },
  "language_info": {
   "codemirror_mode": {
    "name": "ipython",
    "version": 3
   },
   "file_extension": ".py",
   "mimetype": "text/x-python",
   "name": "python",
   "nbconvert_exporter": "python",
   "pygments_lexer": "ipython3",
   "version": "3.8.8"
  }
 },
 "nbformat": 4,
 "nbformat_minor": 5
}
