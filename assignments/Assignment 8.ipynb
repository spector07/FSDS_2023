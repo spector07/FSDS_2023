{
 "cells": [
  {
   "cell_type": "code",
   "execution_count": 3,
   "id": "7e136e94",
   "metadata": {},
   "outputs": [
    {
     "name": "stdout",
     "output_type": "stream",
     "text": [
      "1\n",
      "3\n",
      "5\n",
      "7\n",
      "9\n",
      "11\n",
      "13\n",
      "15\n",
      "17\n",
      "19\n"
     ]
    }
   ],
   "source": [
    "# 1. In Python, what is the difference between a built-in function and a user-defined function? Provide an example of each.\n",
    "\n",
    "# Built in functions definition is already defined in python\n",
    "# Eg. print(), sum(), list(), list().append(), filter(), map() these are in built functions\n",
    "\n",
    "# User defined functions are defined by user using def keyword followed by function names\n",
    "# Eg. Suppose we want to print odd numbers till 20 only, so we need to write a user defined function as follows\n",
    "\n",
    "def oddNums():\n",
    "    for i in range(20):\n",
    "        if i%2 != 0:\n",
    "            print(i)\n",
    "oddNums()"
   ]
  },
  {
   "cell_type": "code",
   "execution_count": 8,
   "id": "26654df4",
   "metadata": {},
   "outputs": [
    {
     "data": {
      "text/plain": [
       "{'no': 4, 'item': 'glass'}"
      ]
     },
     "execution_count": 8,
     "metadata": {},
     "output_type": "execute_result"
    }
   ],
   "source": [
    "# 2. How can you pass arguments to a function in Python? \n",
    "# Explain the difference between positional arguments and keyword arguments.\n",
    "\n",
    "\n",
    "# To pass the arguments in a function first we need to mention in function definition as follows:\n",
    "def test(arg1, arg2):\n",
    "    pass\n",
    "\n",
    "# Positional arguments\n",
    "# Positional arguments are arguments that need to be included in the proper position or order.\n",
    "# Positional arguments can also be passed to functions using an iterable object as follows:\n",
    "\n",
    "def test2(*arg):\n",
    "    return arg\n",
    "\n",
    "# On calling above function we can pass an iterable object with n number of argments with different types\n",
    "# Iterable object mentioned as *arg is of type tuple, always\n",
    "\n",
    "test2(1,2,'te',4,6,{1,3,5})\n",
    "\n",
    "# Also we can pass the arguments as follows\n",
    "def test5(a,b,c,d,e, *m):\n",
    "    return a,b,c,d,e,m\n",
    "\n",
    "test5(3,4,5,6,6,7,7,8,9,9)\n",
    "\n",
    "# Here python will consider iterable argument object at the last\n",
    "\n",
    "# Keyword arguments\n",
    "# In keyword arguments, arguments are assigned based on the name of arguments. \n",
    "# For example,\n",
    "\n",
    "def test4(**arg):\n",
    "    return arg\n",
    "\n",
    "test4(no = 4, item = 'glass')\n",
    "\n",
    "#  here the arguments are considered in key-value pairs where argument name and its value is passed in function call\n"
   ]
  },
  {
   "cell_type": "code",
   "execution_count": 11,
   "id": "846ae5eb",
   "metadata": {},
   "outputs": [
    {
     "data": {
      "text/plain": [
       "'1'"
      ]
     },
     "execution_count": 11,
     "metadata": {},
     "output_type": "execute_result"
    }
   ],
   "source": [
    "# 3. What is the purpose of the return statement in a function? \n",
    "# Can a function have multiple return statements? Explain with an example.\n",
    "\n",
    "# A function has return statement to provide the output from the function.\n",
    "\n",
    "def test6(a, b):\n",
    "    return a + b\n",
    "\n",
    "# Here we have written a function to add two values which will return the summation\n",
    "\n",
    "test6(10,30)\n",
    "\n",
    "# A function can not have multiple return statement as executing the return statement it will avoid execuction of all statements \n",
    "# which are written after return Statement\n",
    "\n",
    "def test7():\n",
    "    return '1'\n",
    "    print('Statement after return')\n",
    "    return '2'\n",
    "\n",
    "test7()"
   ]
  },
  {
   "cell_type": "code",
   "execution_count": 13,
   "id": "272e636c",
   "metadata": {},
   "outputs": [
    {
     "data": {
      "text/plain": [
       "16"
      ]
     },
     "execution_count": 13,
     "metadata": {},
     "output_type": "execute_result"
    }
   ],
   "source": [
    "# 4. What are lambda functions in Python? How are they different from regular functions? \n",
    "# Provide an example where a lambda function can be useful.\n",
    "\n",
    "# Lambda functions are anonymous function which accepts multiple arguments and executes one expression only\n",
    "# It is written with reserved keyword called lambda\n",
    "\n",
    "# Example,\n",
    "\n",
    "test = lambda x : x**2\n",
    "\n",
    "test(4)\n",
    "\n",
    "# In regular functions we can execute the multiple expression with multiple arguments \n",
    "# but in lambda fuction executes one expression only\n",
    "# Also syntax is very simple and one liner for lambda compared to regular functions\n",
    "# Lambda functions are more suitable for small computation or expression\n",
    "# regular fuctions are more suitable for multiple expressions\n",
    "# Lambda functions does not require return function to return the expression values\n",
    "# regular fuctions need return function mentioned explicitly to return values"
   ]
  },
  {
   "cell_type": "code",
   "execution_count": 27,
   "id": "f9215097",
   "metadata": {},
   "outputs": [
    {
     "name": "stdout",
     "output_type": "stream",
     "text": [
      "10\n",
      "20\n",
      "30\n",
      "200\n"
     ]
    }
   ],
   "source": [
    "# 5. How does the concept of \"scope\" apply to functions in Python? \n",
    "# Explain the difference between local scope and global scope.\n",
    "\n",
    "\n",
    "# There are two types of scopes local and global\n",
    "\n",
    "# The variable which defined inside a function body, can only be accessed within the function this is called local scope\n",
    "# Example,\n",
    "\n",
    "def test():\n",
    "    x = 10\n",
    "    print(x)\n",
    "test()\n",
    "\n",
    "\n",
    "# The local scope also applies to function inside a function \n",
    "\n",
    "def test1():\n",
    "    x = 20\n",
    "    def test2():\n",
    "        print(x)\n",
    "    test2()\n",
    "\n",
    "test1()\n",
    "\n",
    "# Gloabl scope\n",
    "# A variable defined in main body of python code is accessible throughout the program is called global varible with global scope\n",
    "x = 30\n",
    "\n",
    "def test2():\n",
    "    print(x)\n",
    "test2()\n",
    "\n",
    "# We can define a varible in global scope with the help of global keyword\n",
    "y = 100\n",
    "def test2():\n",
    "    global y\n",
    "    y = 200\n",
    "test2()\n",
    "print(y)"
   ]
  },
  {
   "cell_type": "code",
   "execution_count": 30,
   "id": "7a028834",
   "metadata": {},
   "outputs": [
    {
     "name": "stdout",
     "output_type": "stream",
     "text": [
      "('Jacob', 2, 4, 5, {'test': 'part'})\n",
      "{'test5': 'part5', 'val': 'awesome', 4: 10000}\n"
     ]
    }
   ],
   "source": [
    "# 6. How can you use the \"return\" statement in a Python function to return multiple values?\n",
    "\n",
    "# function can return mutiple values separated by comma or using a dictionary\n",
    "\n",
    "def test4():\n",
    "    return \"Jacob\", 2,4,5, {'test':'part'}\n",
    "print(test4())\n",
    "\n",
    "\n",
    "def test5():\n",
    "    return {'test5':'part5','val': 'awesome', 4: 10000}\n",
    "print(test5())"
   ]
  },
  {
   "cell_type": "code",
   "execution_count": 31,
   "id": "b392819e",
   "metadata": {},
   "outputs": [
    {
     "name": "stdout",
     "output_type": "stream",
     "text": [
      "Value inside the function:  [10, 20, [11, 12, 13, 14, 15]]\n",
      "Value outside the function:  [10, 20, [11, 12, 13, 14, 15]]\n"
     ]
    }
   ],
   "source": [
    "# 7. What is the difference between the \"pass by value\" and \"pass by reference\" concepts when it\n",
    "# comes to function arguments in Python?\n",
    "\n",
    "# While calling a function instead of copying the values of variables, \n",
    "# the address of the variables is used, it is known as “Call By Reference.”\n",
    "\n",
    "# While calling a function, when we pass values by copying variables, it is known as “Call By Values.”\n",
    "\n",
    "# All the parameters in the python language are passed by reference. \n",
    "# So, if we change what a parameter refers to within a function, the change also reflects back in the calling function.\n",
    "\n",
    "def marks(list):\n",
    "    list.append([11, 12, 13, 14, 15])\n",
    "    print(\"Value inside the function: \", list)\n",
    "    return\n",
    "list = [10,20]\n",
    "marks(list)\n",
    "print(\"Value outside the function: \", list)"
   ]
  },
  {
   "cell_type": "code",
   "execution_count": 39,
   "id": "8e361bb7",
   "metadata": {},
   "outputs": [
    {
     "name": "stdout",
     "output_type": "stream",
     "text": [
      "Logarithmic:  1.0986122886681098\n",
      "Exponential:  20.085536923187668\n",
      "Power:  8.0\n",
      "Square root:  2.0\n"
     ]
    }
   ],
   "source": [
    "# 8. Create a function that can intake integer or decimal value and do following operations:\n",
    "# a. Logarithmic function (log x)\n",
    "# b. Exponential function (exp(x))\n",
    "# c. Power function with base 2\n",
    "# d. Square root\n",
    "import math\n",
    "\n",
    "def logirthm(x):\n",
    "    return math.log(x)\n",
    "\n",
    "def expo(x):\n",
    "    return math.exp(x)\n",
    "\n",
    "def power(x):\n",
    "    return math.pow(2,x)\n",
    "\n",
    "def sq(x):\n",
    "    return math.sqrt(x)\n",
    "\n",
    "print('Logarithmic: ', logirthm(3))\n",
    "print('Exponential: ',expo(3))\n",
    "print('Power: ',power(3))\n",
    "print('Square root: ',sq(4))"
   ]
  },
  {
   "cell_type": "code",
   "execution_count": 42,
   "id": "ebb71dd2",
   "metadata": {},
   "outputs": [
    {
     "data": {
      "text/plain": [
       "{'firstName': 'John', 'lastName': 'Wick'}"
      ]
     },
     "execution_count": 42,
     "metadata": {},
     "output_type": "execute_result"
    }
   ],
   "source": [
    "# Create a function that takes a full name as an argument and returns first name and last name.\n",
    "\n",
    "def name(a):\n",
    "    names = a.split(' ')\n",
    "    return {'firstName': names[0], 'lastName': names[1]}\n",
    "\n",
    "name('John Wick')"
   ]
  },
  {
   "cell_type": "code",
   "execution_count": null,
   "id": "fc41a8df",
   "metadata": {},
   "outputs": [],
   "source": []
  }
 ],
 "metadata": {
  "kernelspec": {
   "display_name": "Python 3",
   "language": "python",
   "name": "python3"
  },
  "language_info": {
   "codemirror_mode": {
    "name": "ipython",
    "version": 3
   },
   "file_extension": ".py",
   "mimetype": "text/x-python",
   "name": "python",
   "nbconvert_exporter": "python",
   "pygments_lexer": "ipython3",
   "version": "3.8.8"
  }
 },
 "nbformat": 4,
 "nbformat_minor": 5
}
