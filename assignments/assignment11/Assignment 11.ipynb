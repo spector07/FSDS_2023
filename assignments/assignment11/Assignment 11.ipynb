{
 "cells": [
  {
   "cell_type": "code",
   "execution_count": 12,
   "id": "c54784d6",
   "metadata": {},
   "outputs": [
    {
     "name": "stdout",
     "output_type": "stream",
     "text": [
      "enter first number1\n",
      "enter seconde number1\n",
      "1.0\n",
      "Try block executed without exception\n"
     ]
    }
   ],
   "source": [
    "# 1. What is the role of the 'else' block in a try-except statement? \n",
    "# Provide an example scenario where it would be useful.\n",
    "\n",
    "\n",
    "# Else block will be executed when try block is executed without any exception\n",
    "\n",
    "a=int(input(\"enter first number\"))\n",
    "b=int(input(\"enter seconde number\"))\n",
    "try:\n",
    "    c = a/b\n",
    "    print(c)\n",
    "except:\n",
    "    print(\"b should not be zero\")\n",
    "else:\n",
    "    print(\"Try block executed without exception\")"
   ]
  },
  {
   "cell_type": "code",
   "execution_count": 14,
   "id": "7ad0ac02",
   "metadata": {},
   "outputs": [
    {
     "name": "stdout",
     "output_type": "stream",
     "text": [
      "inner exception:  'tuple' object has no attribute 'push'\n"
     ]
    }
   ],
   "source": [
    "# 2. Can a try-except block be nested inside another try-except block?\n",
    "# Explain with an example.\n",
    "\n",
    "try:\n",
    "    c = 1/1\n",
    "    try:\n",
    "        d = (10,20)\n",
    "        d.push(30)\n",
    "    except Exception as e:\n",
    "        print(\"inner exception: \", e)\n",
    "except Exception as e:\n",
    "    print(\"outer exception\", e)\n",
    "        "
   ]
  },
  {
   "cell_type": "code",
   "execution_count": 19,
   "id": "aef04e1d",
   "metadata": {},
   "outputs": [
    {
     "name": "stdout",
     "output_type": "stream",
     "text": [
      "Please enter a number: 13\n",
      "Odd number entered\n"
     ]
    }
   ],
   "source": [
    "# 3. How can you create a custom exception class in Python? Provide an example that demonstrates its usage\n",
    "\n",
    "class CustomException(Exception):\n",
    "    pass\n",
    "\n",
    "try:\n",
    "    a = int(input(\"Please enter a number: \"))\n",
    "    if a%2 == 0:\n",
    "        print(\"Even number entered\")\n",
    "    else:\n",
    "        raise CustomException(\"Odd number entered\")\n",
    "except Exception as e:\n",
    "    print(e)"
   ]
  },
  {
   "cell_type": "code",
   "execution_count": null,
   "id": "f87b9796",
   "metadata": {},
   "outputs": [],
   "source": [
    "# 4. What are some common exceptions that are built-in to Python?\n",
    "\n",
    "# a. EOFError\n",
    "It is raised when input function hits end of the file without reading any data\n",
    "\n",
    "# b. ArithmeticError\n",
    "It is raised for various arithmetic errors\n",
    "\n",
    "# c. IndexError\n",
    "This error occurs when we try to access an element in the list which is out of range.\n",
    "Suppose list contains [0-n] index and we try to access [n+1]\n",
    "\n",
    "\n",
    "# d. MemoryError\n",
    "This error will occur if operation run out of memory.\n",
    "The interpreter has run out of memory to allocate to python program\n",
    "\n",
    "# e. OverflowError\n",
    "When the result of arithmetic errors is too large and it can not be represented, this error will be raised\n",
    "\n",
    "# f. TabError\n",
    "This error will occur if indentatation in python program is inconsistent\n",
    "\n",
    "# g. ValueError\n",
    "On passing the argument to any function, the type of the value is correct but value is inappropriate,\n",
    "in that case this error is reported\n",
    "\n",
    "#h ImportError\n",
    "It occurs when there is any error while loading the module\n",
    "\n",
    "#i RuntimeError\n",
    "It occurs when an error is detected that doesn’t fall in any of the other categories"
   ]
  },
  {
   "cell_type": "code",
   "execution_count": 5,
   "id": "153f6163",
   "metadata": {},
   "outputs": [],
   "source": [
    "# 5. What is logging in Python, and why is it important in software development?\n",
    "\n",
    "\n",
    "Logging is an activity to maintain the logs of any kind of operations performed in any functionality written python project.\n",
    "In case of any issues faced at any stage of the project, logging helps us to indentify the root cause. \n",
    "It helps us to find actual data passed to or received from an API or a function. It gives clear visibility "
   ]
  },
  {
   "cell_type": "code",
   "execution_count": 6,
   "id": "eb129a41",
   "metadata": {},
   "outputs": [],
   "source": [
    "# 6. Explain the purpose of log levels in Python logging and provide examples of when each log level would be appropriate\n",
    "\n",
    "Log levels are defined in python to indicate the severity of the events.\n",
    "\n",
    "In python log levels are defined as follows:\n",
    "    \n",
    "DEBUG: Used in root cause analysis and logging detailed information. It has severity number as 10\n",
    "INFO: Used when things are working as expected. It has severity number as 20\n",
    "WARNING: Used to indicate some problem may occur in future and has happened, but its working fine. It has severity number as 30\n",
    "ERROR: When software is not performing some functionality as expected. It has severity number as 40\n",
    "CRITICAL: A serious error due to which program unable to continue. It has severity number as 50\n",
    "    \n",
    "\n",
    "The default level is WARNING, which means that only events of this level and above will be tracked, \n",
    "unless the logging package is configured to do otherwise.\n",
    "\n",
    "If we set the level to WARNING, only ERROR and CRITICAL events can be logged followed by WARNING.\n"
   ]
  },
  {
   "cell_type": "code",
   "execution_count": 27,
   "id": "9de2a21f",
   "metadata": {},
   "outputs": [
    {
     "name": "stderr",
     "output_type": "stream",
     "text": [
      "INFO:Write this info into message\n",
      "WARNING:This is a warning message\n"
     ]
    }
   ],
   "source": [
    "# 7. What are log formatters in Python logging, and how can you customise the log message format using formatters?\n",
    "\n",
    "# Log formatters are representation of log text formation.\n",
    "# It can be used to format the text as follows:\n",
    "\n",
    "    \n",
    "import logging\n",
    "\n",
    "logging.basicConfig(format='%(levelname)s : %(message)s', level=logging.DEBUG)\n",
    "logging.info('Write this info into message')\n",
    "logging.warning('This is a warning message')"
   ]
  },
  {
   "cell_type": "code",
   "execution_count": 8,
   "id": "61942c78",
   "metadata": {},
   "outputs": [],
   "source": [
    "# 8. How can you set up logging to capture log messages from multiple modules or classes in a Python application?\n",
    "\n"
   ]
  },
  {
   "cell_type": "code",
   "execution_count": 9,
   "id": "3bb2dbf1",
   "metadata": {},
   "outputs": [],
   "source": [
    "# 9. What is the difference between the logging and print statements in Python? \n",
    "# When should you use logging over print statements in a real-world application?\n",
    "\n",
    "The print() statement only displays messages on the console. \n",
    "Recording logging data inside a file or sending it over the internet needs additional works.\n",
    "\n",
    "Whenever we want to track the data sent and received in an application we can use logging instead of print.\n",
    "In case of investigating some or finding the root cause of an error, error logging is useful.\n",
    "Like this we can log as per severity of the issues in python program.\n",
    "Debug (logging.debug()): Providing information to diagnosing problems.\n",
    "Info (logging.info()): Tracking the normal operation of a program.\n",
    "Warning (logging.warning()): Although the code is still working as expected, something unexpected happened.\n",
    "Error (logging.error()): The code was unable to run some parts.\n",
    "Critical (logging.critical()): The code cannot run."
   ]
  },
  {
   "cell_type": "code",
   "execution_count": null,
   "id": "3db1c8ad",
   "metadata": {},
   "outputs": [],
   "source": []
  },
  {
   "cell_type": "code",
   "execution_count": null,
   "id": "e6cb3bdf",
   "metadata": {},
   "outputs": [],
   "source": []
  },
  {
   "cell_type": "code",
   "execution_count": null,
   "id": "4535415e",
   "metadata": {},
   "outputs": [],
   "source": []
  }
 ],
 "metadata": {
  "kernelspec": {
   "display_name": "Python 3",
   "language": "python",
   "name": "python3"
  },
  "language_info": {
   "codemirror_mode": {
    "name": "ipython",
    "version": 3
   },
   "file_extension": ".py",
   "mimetype": "text/x-python",
   "name": "python",
   "nbconvert_exporter": "python",
   "pygments_lexer": "ipython3",
   "version": "3.8.8"
  }
 },
 "nbformat": 4,
 "nbformat_minor": 5
}
