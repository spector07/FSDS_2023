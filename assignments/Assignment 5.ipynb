{
 "cells": [
  {
   "cell_type": "code",
   "execution_count": 1,
   "id": "408042a4",
   "metadata": {},
   "outputs": [
    {
     "data": {
      "text/plain": [
       "{}"
      ]
     },
     "execution_count": 1,
     "metadata": {},
     "output_type": "execute_result"
    }
   ],
   "source": [
    "# 1. What does an empty dictionary's code look like?\n",
    "\n",
    "{}"
   ]
  },
  {
   "cell_type": "code",
   "execution_count": 2,
   "id": "6dc80168",
   "metadata": {},
   "outputs": [],
   "source": [
    "# 2. What is the value of a dictionary value with the key 'foo' and the value 42?\n",
    "\n",
    "d = {'foo': 42}"
   ]
  },
  {
   "cell_type": "raw",
   "id": "bf24d31b",
   "metadata": {},
   "source": [
    "# 3. What is the most significant distinction between a dictionary and a list?\n",
    "\n",
    "Dictionary is written in {} where as list is written in [].\n",
    "Dictionary has key-value pair, list had values only.\n",
    "Dictionary eg: {'foo': 232}, List eg: [1,3,'adf']"
   ]
  },
  {
   "cell_type": "raw",
   "id": "f0233ebe",
   "metadata": {},
   "source": [
    "# 4. What happens if you try to access spam['foo'] if spam is {'bar': 100}?\n",
    "\n",
    "It will give key error."
   ]
  },
  {
   "cell_type": "raw",
   "id": "cf8529ec",
   "metadata": {},
   "source": [
    "# 5. If a dictionary is stored in spam, what is the difference between the expressions 'cat' in spam and 'cat' in spam.keys()?\n",
    "\n",
    "expression 'cat' in spam will be a value.\n",
    "'cat' in spam.keys() is a key in spam dictionary."
   ]
  },
  {
   "cell_type": "code",
   "execution_count": 9,
   "id": "629c481c",
   "metadata": {},
   "outputs": [
    {
     "data": {
      "text/plain": [
       "{'color': 'black'}"
      ]
     },
     "execution_count": 9,
     "metadata": {},
     "output_type": "execute_result"
    }
   ],
   "source": [
    "# 7. What is a shortcut for the following code?\n",
    "# if 'color' not in spam:\n",
    "#     spam['color'] = 'black'\n",
    "\n",
    "# shortcut\n",
    "spam = {}\n",
    "spam['color'] = 'black' \n",
    "spam"
   ]
  },
  {
   "cell_type": "code",
   "execution_count": 10,
   "id": "080ae526",
   "metadata": {},
   "outputs": [
    {
     "name": "stdout",
     "output_type": "stream",
     "text": [
      "{'class_attended': [{'Science', 'Mathematics', 'English'}],\n",
      " 'name': 'harry',\n",
      " 'serial_no': 65}\n"
     ]
    }
   ],
   "source": [
    "# 8. How do you \"pretty print\" dictionary values using which module and function?\n",
    "\n",
    "import pprint\n",
    "\n",
    "test_dict = {\n",
    "    'serial_no': 65,\n",
    "    'name': 'harry',\n",
    "    'class_attended': [{ 'English', 'Mathematics', 'Science'}]\n",
    "}\n",
    "\n",
    "pretty = pprint.pprint(test_dict)\n"
   ]
  },
  {
   "cell_type": "code",
   "execution_count": null,
   "id": "254fe7b6",
   "metadata": {},
   "outputs": [],
   "source": []
  }
 ],
 "metadata": {
  "kernelspec": {
   "display_name": "Python 3",
   "language": "python",
   "name": "python3"
  },
  "language_info": {
   "codemirror_mode": {
    "name": "ipython",
    "version": 3
   },
   "file_extension": ".py",
   "mimetype": "text/x-python",
   "name": "python",
   "nbconvert_exporter": "python",
   "pygments_lexer": "ipython3",
   "version": "3.8.8"
  }
 },
 "nbformat": 4,
 "nbformat_minor": 5
}
