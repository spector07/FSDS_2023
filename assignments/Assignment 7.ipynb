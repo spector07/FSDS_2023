{
 "cells": [
  {
   "cell_type": "code",
   "execution_count": 6,
   "id": "9198ef8c",
   "metadata": {},
   "outputs": [
    {
     "name": "stdout",
     "output_type": "stream",
     "text": [
      "First variable is a = 10 & second variable is b = 33.\n",
      "Addition: 10 + 33 = 43\n",
      "Subtraction: 10 - 33 = -23\n",
      "Multiplication: 10 * 33 = 330\n",
      "Division: 10 / 33 = 0.30303030303030304\n"
     ]
    }
   ],
   "source": [
    "# Q.1. Create two int type variables, apply addition, subtraction, division and multiplications\n",
    "# and store the results in variables. Then print the data in the following format by calling the\n",
    "# variables:\n",
    "    \n",
    "# First variable is __ & second variable is __.\n",
    "# Addition: __ + __ = __\n",
    "# Subtraction: __ - __ = __\n",
    "# Multiplication: __ * __ = __\n",
    "# Division: __ / __ = __\n",
    "\n",
    "\n",
    "a = 10\n",
    "b = 33\n",
    "\n",
    "add = a + b\n",
    "sub = a - b\n",
    "mult = a * b\n",
    "div = a / b\n",
    "\n",
    "print(f\"First variable is a = {a} & second variable is b = {b}.\")\n",
    "print(f\"Addition: {a} + {b} = {add}\")\n",
    "print(f\"Subtraction: {a} - {b} = {sub}\")\n",
    "print(f\"Multiplication: {a} * {b} = {mult}\")\n",
    "print(f\"Division: {a} / {b} = {div}\")\n"
   ]
  },
  {
   "cell_type": "code",
   "execution_count": 9,
   "id": "d558c4dd",
   "metadata": {},
   "outputs": [
    {
     "name": "stdout",
     "output_type": "stream",
     "text": [
      "4.75\n",
      "4\n",
      "8\n",
      "1\n"
     ]
    }
   ],
   "source": [
    "# Q.2. What is the difference between the following operators:\n",
    "\n",
    "# (i) ‘/’ & ‘//’ \n",
    "\n",
    "# '/' and '//' belong to the arithmetic operators.\n",
    "\n",
    "# '/' is used for the normal division of two numbers.\n",
    "\n",
    "# '//' is used to obtain the smallest integer nearest to the quotient obtained by dividing two numbers.\n",
    "\n",
    "# Eg.\n",
    "\n",
    "print(19/4)\n",
    "print(19//4)\n",
    "\n",
    "# (ii) ‘**’ & ‘^’\n",
    "# ** is the power of operator\n",
    "# ^ is the exclusive OR i.e XOR operator which evaluates to true if and only if its arguments differ (one is True, the other is False).\n",
    "\n",
    "print(2**3)\n",
    "print(2^3)\n"
   ]
  },
  {
   "cell_type": "code",
   "execution_count": null,
   "id": "bea47269",
   "metadata": {},
   "outputs": [],
   "source": [
    "# Q.3. List the logical operators.\n",
    "\n",
    "and - Returns True if both statements are true\n",
    "or - Returns True if any of statements is true\n",
    "not - Reverse the result from true to false and vice versa"
   ]
  },
  {
   "cell_type": "code",
   "execution_count": 18,
   "id": "2419801d",
   "metadata": {},
   "outputs": [
    {
     "name": "stdout",
     "output_type": "stream",
     "text": [
      "var      =  2\n",
      "var * 2  =  4\n",
      "var * 4  =  8\n",
      "var * 8  =  16\n",
      "var * 16 =  32\n",
      "var * 32 =  64\n",
      "var    =  128\n",
      "var/2  =  64\n",
      "var/4  =  32\n",
      "var/8  =  16\n",
      "var/16 =  8\n",
      "var/32 =  4\n"
     ]
    }
   ],
   "source": [
    "# Q.4. Explain right shift operator and left shift operator with examples.\n",
    "\n",
    "# Bitwise Left shift operator is used to shift the binary sequence to the left side by specified position.\n",
    "\n",
    "var = 2;\n",
    "\n",
    "print(\"var      = \", var<<0)  #same number\n",
    "print(\"var * 2  = \", var<<1) #1 position to the left\n",
    "print(\"var * 4  = \", var<<2) #2 position to the left\n",
    "print(\"var * 8  = \", var<<3) #3 position to the left\n",
    "print(\"var * 16 = \", var<<4) #4 position to the left\n",
    "print(\"var * 32 = \", var<<5) #5 position to the left\n",
    "\n",
    "\n",
    "# Bitwise Right shift operator >> is used to shift the binary sequence to right side by specified position.\n",
    "\n",
    "\n",
    "var = 128;\n",
    "\n",
    "print(\"var    = \", var>>0) #same value\n",
    "print(\"var/2  = \", var>>1) #1 position to right\n",
    "print(\"var/4  = \", var>>2) #2 position to right\n",
    "print(\"var/8  = \", var>>3) #3 position to right\n",
    "print(\"var/16 = \", var>>4) #4 position to right\n",
    "print(\"var/32 = \", var>>5) #5 position to right"
   ]
  },
  {
   "cell_type": "code",
   "execution_count": 13,
   "id": "029cd6b1",
   "metadata": {},
   "outputs": [
    {
     "name": "stdout",
     "output_type": "stream",
     "text": [
      "Available in list\n"
     ]
    }
   ],
   "source": [
    "# Q.5. Create a list containing int type data of length 15. Then write a code to check if 10 is\n",
    "# present in the list or not.\n",
    "\n",
    "a = [1,2,3,4,5,6,7,8,9,10,11,12,13,14,15]\n",
    "if a.index(10):\n",
    "    print('Available in list')"
   ]
  },
  {
   "cell_type": "code",
   "execution_count": null,
   "id": "5a5ab6d9",
   "metadata": {},
   "outputs": [],
   "source": []
  }
 ],
 "metadata": {
  "kernelspec": {
   "display_name": "Python 3",
   "language": "python",
   "name": "python3"
  },
  "language_info": {
   "codemirror_mode": {
    "name": "ipython",
    "version": 3
   },
   "file_extension": ".py",
   "mimetype": "text/x-python",
   "name": "python",
   "nbconvert_exporter": "python",
   "pygments_lexer": "ipython3",
   "version": "3.8.8"
  }
 },
 "nbformat": 4,
 "nbformat_minor": 5
}
