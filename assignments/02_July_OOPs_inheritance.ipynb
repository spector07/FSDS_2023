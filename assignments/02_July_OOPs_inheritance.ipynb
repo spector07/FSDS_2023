{
 "cells": [
  {
   "cell_type": "code",
   "execution_count": 2,
   "id": "78a852cf",
   "metadata": {},
   "outputs": [],
   "source": [
    "# 1. Explain what inheritance is in object-oriented programming and why it is used.\n",
    "\n",
    "Inheritance is a principle that allows to derive class from another class or hierarchy of classes which shares\n",
    "a set of attributes and methods. \n",
    "It is used to achieve code reusability, avoid duplication of code.\n",
    "It helps to build the scalable, maintainable and flexible solution for any application.\n",
    "It helps to preserve data and methods in parent."
   ]
  },
  {
   "cell_type": "code",
   "execution_count": 3,
   "id": "2cfc8630",
   "metadata": {},
   "outputs": [],
   "source": [
    "# 2. Discuss the concept of single inheritance and multiple inheritance, highlighting their differences and advantages.\n",
    "\n",
    "Single inheritance:\n",
    "    In this type of inheritance only one class is derived by one class.\n",
    "    Only one parent is inherited by a child class.\n",
    "    The child class can access all the public and protected methods and attributes of the parent class.\n",
    "    Child class can overwrite the method in parent.\n",
    "    Maitainance is lower.\n",
    "\n",
    "\n",
    "Multiple inheritance:\n",
    "    One class is derived by more than one class, this is known as multiple inheritance.\n",
    "    All properties and methods of parent class are shared with all the child classes.\n",
    "    A class can inherit the properties of more than one class hence providing more functionality.\n",
    "    It can lead to confusion when two base classes have a method with same name.\n",
    "    In case higher number of classes, maintaince is also higher."
   ]
  },
  {
   "cell_type": "code",
   "execution_count": 4,
   "id": "cd40753f",
   "metadata": {},
   "outputs": [],
   "source": [
    "# 3. Explain the terms \"base class\" and \"derived class\" in the context of inheritance.\n",
    "\n",
    "\n",
    "Base class:\n",
    "    It is a parent/existing class where we can define attributes and methods.\n",
    "\n",
    "Derived class:\n",
    "    It is a child class which is derived from the base class and it can access base class methods and attributes.\n",
    "    "
   ]
  },
  {
   "cell_type": "code",
   "execution_count": 5,
   "id": "ea94a401",
   "metadata": {},
   "outputs": [],
   "source": [
    "# 4. What is the significance of the \"protected\" access modifier in inheritance? \n",
    "# How does it differ from \"private\" and \"public\" modifiers?\n",
    "\n",
    "Protected:\n",
    "    The protected access modifier tells that the attribute or method of base class specified as protected, can be accessible \n",
    "    within the derived classes.\n",
    "    \n",
    "Public:\n",
    "    The public access modifier tells that the attribute or method of base class specified as public, can be accessible \n",
    "    from anywhere in the application\n",
    "    \n",
    "    \n",
    "Private:\n",
    "    Private access modifier restricts the use of attributes and methods of a class within the class itself.\n",
    "    It can not be accessed outside the class environment\n",
    "    \n"
   ]
  },
  {
   "cell_type": "code",
   "execution_count": 15,
   "id": "3d58b616",
   "metadata": {},
   "outputs": [
    {
     "name": "stdout",
     "output_type": "stream",
     "text": [
      "Animal Type: Mammal\n",
      "Mammals give birth directly\n"
     ]
    }
   ],
   "source": [
    "# 5. What is the purpose of the \"super\" keyword in inheritance? Provide an example.\n",
    "\n",
    "Super keyeword is used to access the methods and properties of parent class.\n",
    "It is useful in multiple inheritance.\n",
    "It allows us to avoid using base class name explicitly\n",
    "\n",
    "class Animal():\n",
    "    def __init__(self, animal_type):\n",
    "        print('Animal Type:', animal_type)\n",
    "    \n",
    "class Mammal(Animal):\n",
    "    def __init__(self):\n",
    "        # call superclass\n",
    "        super().__init__('Mammal')\n",
    "        print('Mammals give birth directly')\n",
    "    \n",
    "dog = Mammal()"
   ]
  },
  {
   "cell_type": "code",
   "execution_count": 16,
   "id": "cc632963",
   "metadata": {},
   "outputs": [
    {
     "name": "stdout",
     "output_type": "stream",
     "text": [
      "Petrol\n",
      "Suzuki\n",
      "2020\n",
      "Access125\n",
      "This is Suzuki Access125 made in 2020\n",
      "Fuel type is Petrol\n"
     ]
    }
   ],
   "source": [
    "# 6. Create a base class called \"Vehicle\" with attributes like \"make\", \"model\", and \"year\".\n",
    "# Then, create a derived class called \"Car\" that inherits from \"Vehicle\" and adds an\n",
    "# attribute called \"fuel_type\". Implement appropriate methods in both classes.\n",
    "class Vehicle:\n",
    "\n",
    "    def __init__(self, make, model, year):\n",
    "        self.make = make\n",
    "        self.model = model\n",
    "        self.year = year\n",
    "\n",
    "    def showmodel(self):\n",
    "        print(f'This is {self.make} {self.model} made in {self.year}')\n",
    "class Car(Vehicle):\n",
    "\n",
    "    def __init__(self, make, model, year, fueltype):\n",
    "        super().__init__(make, model, year)\n",
    "        self.fueltype = fueltype\n",
    "\n",
    "    def showfueltype(self):\n",
    "        print(f'Fuel type is {self.fueltype}')\n",
    "\n",
    "car1 = Car('Suzuki', 'Access125', '2020', 'Petrol')\n",
    "\n",
    "print(car1.fueltype)\n",
    "print(car1.make)\n",
    "print(car1.year)\n",
    "print(car1.model)\n",
    "\n",
    "car1.showmodel()\n",
    "car1.showfueltype()\n"
   ]
  },
  {
   "cell_type": "code",
   "execution_count": 18,
   "id": "723d2812",
   "metadata": {},
   "outputs": [
    {
     "name": "stdout",
     "output_type": "stream",
     "text": [
      "Manoj works as developer on Python and earns 150000 per month\n",
      "Subodh works as manager in Data Science department and earns 250000 per month\n"
     ]
    }
   ],
   "source": [
    "# 7. Create a base class called \"Employee\" with attributes like \"name\" and \"salary.\"\n",
    "# Derive two classes, \"Manager\" and \"Developer,\" from \"Employee.\" Add an additional\n",
    "# attribute called \"department\" for the \"Manager\" class and \"programming_language\"\n",
    "# for the \"Developer\" class.\n",
    "\n",
    "\n",
    "class Employee:\n",
    "\n",
    "    def __init__(self, name, salary):\n",
    "        self.name = name\n",
    "        self.salary = salary\n",
    "\n",
    "\n",
    "class Manager(Employee):\n",
    "\n",
    "    def __init__(self, name, salary, department):\n",
    "        super().__init__(name, salary)\n",
    "        self.department = department\n",
    "\n",
    "    def getDepartment(self):\n",
    "        print(f'{self.name} works as manager in {self.department} department and earns {self.salary} per month')\n",
    "\n",
    "class Developer(Employee):\n",
    "\n",
    "    def __init__(self, name, salary, programming_language):\n",
    "        super().__init__(name, salary)\n",
    "        self.programming_language = programming_language\n",
    "\n",
    "    def getProgrammingLanguage(self):\n",
    "        print(f'{self.name} works as developer on {self.programming_language} and earns {self.salary} per month')\n",
    "\n",
    "\n",
    "dev1 = Developer('Manoj', 150000, 'Python')\n",
    "mng1 = Manager('Subodh', 250000, 'Data Science')\n",
    "\n",
    "dev1.getProgrammingLanguage()\n",
    "mng1.getDepartment()"
   ]
  },
  {
   "cell_type": "code",
   "execution_count": 19,
   "id": "16e4eaa5",
   "metadata": {},
   "outputs": [
    {
     "name": "stdout",
     "output_type": "stream",
     "text": [
      "Draw a circle of radius 10px with red colour and border width of 2px\n",
      "Draw a rectangle of length 50px, width 100px, blue colour and border width of 4px\n"
     ]
    }
   ],
   "source": [
    "# 8. Design a base class called \"Shape\" with attributes like \"colour\" and \"border_width.\"\n",
    "# Create derived classes, \"Rectangle\" and \"Circle,\" that inherit from \"Shape\" and add\n",
    "# specific attributes like \"length\" and \"width\" for the \"Rectangle\" class and \"radius\" for\n",
    "# the \"Circle\" class\n",
    "\n",
    "class Shape:\n",
    "\n",
    "    def __init__(self, colour, border_width):\n",
    "        self.colour = colour\n",
    "        self.border_width = border_width\n",
    "\n",
    "\n",
    "class Rectangle(Shape):\n",
    "\n",
    "    def __init__(self, colour, border_width, length, width):\n",
    "        super().__init__(colour, border_width)\n",
    "        self.length = length\n",
    "        self.width = width\n",
    "\n",
    "    def drawRectangle(self):\n",
    "        print(f'Draw a rectangle of length {self.length}, width {self.width}, {self.colour} colour and border width of {self.border_width}')\n",
    "\n",
    "\n",
    "class Circle(Shape):\n",
    "\n",
    "    def __init__(self, colour, border_width, radius):\n",
    "        super().__init__(colour, border_width)\n",
    "        self.radius = radius\n",
    "\n",
    "    def drawCircle(self):\n",
    "        print(f'Draw a circle of radius {self.radius} with {self.colour} colour and border width of {self.border_width}')\n",
    "\n",
    "\n",
    "circle1 = Circle('red', '2px', '10px')\n",
    "rect1 = Rectangle('blue', '4px', '50px', '100px')\n",
    "\n",
    "circle1.drawCircle()\n",
    "rect1.drawRectangle()"
   ]
  },
  {
   "cell_type": "code",
   "execution_count": 20,
   "id": "81d3940d",
   "metadata": {},
   "outputs": [
    {
     "name": "stdout",
     "output_type": "stream",
     "text": [
      "This phone is of Apple brand, model iPhone12, and screen size 16inch\n",
      "This tablet is of Samsung brand, model Tab2.0, and battery capacity 100000mAh\n"
     ]
    }
   ],
   "source": [
    "# 9. Create a base class called \"Device\" with attributes like \"brand\" and \"model.\" Derive\n",
    "# two classes, \"Phone\" and \"Tablet,\" from \"Device.\" Add specific attributes like\n",
    "# \"screen_size\" for the \"Phone\" class and \"battery_capacity\" for the \"Tablet\" class.\n",
    "\n",
    "\n",
    "class Device:\n",
    "\n",
    "    def __init__(self, brand, model):\n",
    "        self.model = model\n",
    "        self.brand = brand\n",
    "\n",
    "\n",
    "class Phone(Device):\n",
    "\n",
    "    def __init__(self, brand, model, screen_size):\n",
    "        super().__init__(brand, model)\n",
    "        self.screen_size = screen_size\n",
    "\n",
    "    def getPhone(self):\n",
    "        print(f'This phone is of {self.brand} brand, model {self.model}, and screen size {self.screen_size}')\n",
    "\n",
    "\n",
    "class Tablet(Device):\n",
    "\n",
    "    def __init__(self, brand, model, battery_capacity):\n",
    "        super().__init__(brand, model)\n",
    "        self.battery_capacity = battery_capacity\n",
    "\n",
    "    def getTablet(self):\n",
    "        print(f'This tablet is of {self.brand} brand, model {self.model}, and battery capacity {self.battery_capacity}')\n",
    "\n",
    "\n",
    "phone1 = Phone('Apple', 'iPhone12', '16inch')\n",
    "tab1 = Tablet('Samsung', 'Tab2.0', '100000mAh')\n",
    "\n",
    "phone1.getPhone()\n",
    "tab1.getTablet()"
   ]
  },
  {
   "cell_type": "code",
   "execution_count": 21,
   "id": "e1008a0f",
   "metadata": {},
   "outputs": [
    {
     "name": "stdout",
     "output_type": "stream",
     "text": [
      "Monthly interest on saving account SA121211 is 2300.0\n",
      "CA3451221 has 11900 balance after deducting fees\n"
     ]
    }
   ],
   "source": [
    "# 10. Create a base class called \"BankAccount\" with attributes like \"account_number\" and\n",
    "# \"balance.\" Derive two classes, \"SavingsAccount\" and \"CheckingAccount,\" from\n",
    "# \"BankAccount.\" Add specific methods like \"calculate_interest\" for the\n",
    "# \"SavingsAccount\" class and \"deduct_fees\" for the \"CheckingAccount\" class.\n",
    "\n",
    "\n",
    "class BankAccount:\n",
    "\n",
    "    def __init__(self, account_number, balance):\n",
    "        self.account_number = account_number\n",
    "        self.balance = balance\n",
    "\n",
    "\n",
    "class SavingsAccount(BankAccount):\n",
    "\n",
    "    def __init__(self, account_number, balance):\n",
    "        super().__init__(account_number, balance)\n",
    "\n",
    "    def calculate_interest(self):\n",
    "        self.interest = self.balance * 0.1\n",
    "        print(f'Monthly interest on saving account {self.account_number} is {self.interest}')\n",
    "\n",
    "\n",
    "class CheckingAccount(BankAccount):\n",
    "\n",
    "    def __init__(self, account_number, balance):\n",
    "        super().__init__(account_number, balance)\n",
    "\n",
    "    def deduct_fees(self):\n",
    "        self.balance =  self.balance - 100\n",
    "        print(f'{self.account_number} has {self.balance} balance after deducting fees')\n",
    "\n",
    "\n",
    "sa = SavingsAccount('SA121211', 23000)\n",
    "ca = CheckingAccount('CA3451221', 12000)\n",
    "\n",
    "sa.calculate_interest()\n",
    "ca.deduct_fees()\n"
   ]
  },
  {
   "cell_type": "code",
   "execution_count": null,
   "id": "879a0972",
   "metadata": {},
   "outputs": [],
   "source": []
  }
 ],
 "metadata": {
  "kernelspec": {
   "display_name": "Python 3",
   "language": "python",
   "name": "python3"
  },
  "language_info": {
   "codemirror_mode": {
    "name": "ipython",
    "version": 3
   },
   "file_extension": ".py",
   "mimetype": "text/x-python",
   "name": "python",
   "nbconvert_exporter": "python",
   "pygments_lexer": "ipython3",
   "version": "3.8.8"
  }
 },
 "nbformat": 4,
 "nbformat_minor": 5
}
